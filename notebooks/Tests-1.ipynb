{
 "cells": [
  {
   "cell_type": "markdown",
   "metadata": {},
   "source": [
    "# Music to Graphic Art Transformation Tests\n",
    "\n",
    "This notebooks deals with some ideas starting with Fourier transforms, wave representations and Spectrograms\n",
    "\n"
   ]
  },
  {
   "cell_type": "code",
   "execution_count": 1,
   "metadata": {},
   "outputs": [],
   "source": [
    "# general imports\n",
    "import numpy as np\n",
    "import pandas as pd\n",
    "import scipy as sp\n",
    "from scipy import signal"
   ]
  },
  {
   "cell_type": "code",
   "execution_count": 2,
   "metadata": {},
   "outputs": [],
   "source": [
    "# audio reading and writing\n",
    "from scipy.io.wavfile import read as wavread\n",
    "import pydub\n",
    "import wave"
   ]
  },
  {
   "cell_type": "code",
   "execution_count": 3,
   "metadata": {},
   "outputs": [],
   "source": [
    "# use some things to normalize\n",
    "from torch import FloatTensor\n",
    "from torch.nn.functional import normalize as torchnorm\n",
    "\n",
    "# vecs = np.random.rand(3, 16, 16, 16)\n",
    "# norm_vecs = normalize(FloatTensor(vecs), dim=0, eps=1e-16).numpy()"
   ]
  },
  {
   "cell_type": "code",
   "execution_count": 4,
   "metadata": {},
   "outputs": [],
   "source": [
    "#graphical libraries\n",
    "from bokeh.plotting import figure\n",
    "from bokeh.io import output_notebook, show\n",
    "import colorcet as cc\n",
    "from bokeh import palettes\n",
    "\n",
    "import matplotlib.pyplot as plt\n",
    "\n",
    "%matplotlib inline"
   ]
  },
  {
   "cell_type": "markdown",
   "metadata": {},
   "source": [
    "Audio was already extracted from yuotube videos for tests with the following commands:\n",
    "\n",
    "\n",
    "    ffmpeg -i my_video.mp4 -c copy -map 0:a output_audio.mp4\n",
    "\n",
    "    ffmpeg -i my_video.mp4 output_audio.wav\n",
    "\n"
   ]
  },
  {
   "cell_type": "code",
   "execution_count": 5,
   "metadata": {},
   "outputs": [
    {
     "data": {
      "text/html": [
       "\n",
       "    <div class=\"bk-root\">\n",
       "        <a href=\"https://bokeh.pydata.org\" target=\"_blank\" class=\"bk-logo bk-logo-small bk-logo-notebook\"></a>\n",
       "        <span id=\"1001\">Loading BokehJS ...</span>\n",
       "    </div>"
      ]
     },
     "metadata": {},
     "output_type": "display_data"
    },
    {
     "data": {
      "application/javascript": [
       "\n",
       "(function(root) {\n",
       "  function now() {\n",
       "    return new Date();\n",
       "  }\n",
       "\n",
       "  var force = true;\n",
       "\n",
       "  if (typeof root._bokeh_onload_callbacks === \"undefined\" || force === true) {\n",
       "    root._bokeh_onload_callbacks = [];\n",
       "    root._bokeh_is_loading = undefined;\n",
       "  }\n",
       "\n",
       "  var JS_MIME_TYPE = 'application/javascript';\n",
       "  var HTML_MIME_TYPE = 'text/html';\n",
       "  var EXEC_MIME_TYPE = 'application/vnd.bokehjs_exec.v0+json';\n",
       "  var CLASS_NAME = 'output_bokeh rendered_html';\n",
       "\n",
       "  /**\n",
       "   * Render data to the DOM node\n",
       "   */\n",
       "  function render(props, node) {\n",
       "    var script = document.createElement(\"script\");\n",
       "    node.appendChild(script);\n",
       "  }\n",
       "\n",
       "  /**\n",
       "   * Handle when an output is cleared or removed\n",
       "   */\n",
       "  function handleClearOutput(event, handle) {\n",
       "    var cell = handle.cell;\n",
       "\n",
       "    var id = cell.output_area._bokeh_element_id;\n",
       "    var server_id = cell.output_area._bokeh_server_id;\n",
       "    // Clean up Bokeh references\n",
       "    if (id != null && id in Bokeh.index) {\n",
       "      Bokeh.index[id].model.document.clear();\n",
       "      delete Bokeh.index[id];\n",
       "    }\n",
       "\n",
       "    if (server_id !== undefined) {\n",
       "      // Clean up Bokeh references\n",
       "      var cmd = \"from bokeh.io.state import curstate; print(curstate().uuid_to_server['\" + server_id + \"'].get_sessions()[0].document.roots[0]._id)\";\n",
       "      cell.notebook.kernel.execute(cmd, {\n",
       "        iopub: {\n",
       "          output: function(msg) {\n",
       "            var id = msg.content.text.trim();\n",
       "            if (id in Bokeh.index) {\n",
       "              Bokeh.index[id].model.document.clear();\n",
       "              delete Bokeh.index[id];\n",
       "            }\n",
       "          }\n",
       "        }\n",
       "      });\n",
       "      // Destroy server and session\n",
       "      var cmd = \"import bokeh.io.notebook as ion; ion.destroy_server('\" + server_id + \"')\";\n",
       "      cell.notebook.kernel.execute(cmd);\n",
       "    }\n",
       "  }\n",
       "\n",
       "  /**\n",
       "   * Handle when a new output is added\n",
       "   */\n",
       "  function handleAddOutput(event, handle) {\n",
       "    var output_area = handle.output_area;\n",
       "    var output = handle.output;\n",
       "\n",
       "    // limit handleAddOutput to display_data with EXEC_MIME_TYPE content only\n",
       "    if ((output.output_type != \"display_data\") || (!output.data.hasOwnProperty(EXEC_MIME_TYPE))) {\n",
       "      return\n",
       "    }\n",
       "\n",
       "    var toinsert = output_area.element.find(\".\" + CLASS_NAME.split(' ')[0]);\n",
       "\n",
       "    if (output.metadata[EXEC_MIME_TYPE][\"id\"] !== undefined) {\n",
       "      toinsert[toinsert.length - 1].firstChild.textContent = output.data[JS_MIME_TYPE];\n",
       "      // store reference to embed id on output_area\n",
       "      output_area._bokeh_element_id = output.metadata[EXEC_MIME_TYPE][\"id\"];\n",
       "    }\n",
       "    if (output.metadata[EXEC_MIME_TYPE][\"server_id\"] !== undefined) {\n",
       "      var bk_div = document.createElement(\"div\");\n",
       "      bk_div.innerHTML = output.data[HTML_MIME_TYPE];\n",
       "      var script_attrs = bk_div.children[0].attributes;\n",
       "      for (var i = 0; i < script_attrs.length; i++) {\n",
       "        toinsert[toinsert.length - 1].firstChild.setAttribute(script_attrs[i].name, script_attrs[i].value);\n",
       "      }\n",
       "      // store reference to server id on output_area\n",
       "      output_area._bokeh_server_id = output.metadata[EXEC_MIME_TYPE][\"server_id\"];\n",
       "    }\n",
       "  }\n",
       "\n",
       "  function register_renderer(events, OutputArea) {\n",
       "\n",
       "    function append_mime(data, metadata, element) {\n",
       "      // create a DOM node to render to\n",
       "      var toinsert = this.create_output_subarea(\n",
       "        metadata,\n",
       "        CLASS_NAME,\n",
       "        EXEC_MIME_TYPE\n",
       "      );\n",
       "      this.keyboard_manager.register_events(toinsert);\n",
       "      // Render to node\n",
       "      var props = {data: data, metadata: metadata[EXEC_MIME_TYPE]};\n",
       "      render(props, toinsert[toinsert.length - 1]);\n",
       "      element.append(toinsert);\n",
       "      return toinsert\n",
       "    }\n",
       "\n",
       "    /* Handle when an output is cleared or removed */\n",
       "    events.on('clear_output.CodeCell', handleClearOutput);\n",
       "    events.on('delete.Cell', handleClearOutput);\n",
       "\n",
       "    /* Handle when a new output is added */\n",
       "    events.on('output_added.OutputArea', handleAddOutput);\n",
       "\n",
       "    /**\n",
       "     * Register the mime type and append_mime function with output_area\n",
       "     */\n",
       "    OutputArea.prototype.register_mime_type(EXEC_MIME_TYPE, append_mime, {\n",
       "      /* Is output safe? */\n",
       "      safe: true,\n",
       "      /* Index of renderer in `output_area.display_order` */\n",
       "      index: 0\n",
       "    });\n",
       "  }\n",
       "\n",
       "  // register the mime type if in Jupyter Notebook environment and previously unregistered\n",
       "  if (root.Jupyter !== undefined) {\n",
       "    var events = require('base/js/events');\n",
       "    var OutputArea = require('notebook/js/outputarea').OutputArea;\n",
       "\n",
       "    if (OutputArea.prototype.mime_types().indexOf(EXEC_MIME_TYPE) == -1) {\n",
       "      register_renderer(events, OutputArea);\n",
       "    }\n",
       "  }\n",
       "\n",
       "  \n",
       "  if (typeof (root._bokeh_timeout) === \"undefined\" || force === true) {\n",
       "    root._bokeh_timeout = Date.now() + 5000;\n",
       "    root._bokeh_failed_load = false;\n",
       "  }\n",
       "\n",
       "  var NB_LOAD_WARNING = {'data': {'text/html':\n",
       "     \"<div style='background-color: #fdd'>\\n\"+\n",
       "     \"<p>\\n\"+\n",
       "     \"BokehJS does not appear to have successfully loaded. If loading BokehJS from CDN, this \\n\"+\n",
       "     \"may be due to a slow or bad network connection. Possible fixes:\\n\"+\n",
       "     \"</p>\\n\"+\n",
       "     \"<ul>\\n\"+\n",
       "     \"<li>re-rerun `output_notebook()` to attempt to load from CDN again, or</li>\\n\"+\n",
       "     \"<li>use INLINE resources instead, as so:</li>\\n\"+\n",
       "     \"</ul>\\n\"+\n",
       "     \"<code>\\n\"+\n",
       "     \"from bokeh.resources import INLINE\\n\"+\n",
       "     \"output_notebook(resources=INLINE)\\n\"+\n",
       "     \"</code>\\n\"+\n",
       "     \"</div>\"}};\n",
       "\n",
       "  function display_loaded() {\n",
       "    var el = document.getElementById(\"1001\");\n",
       "    if (el != null) {\n",
       "      el.textContent = \"BokehJS is loading...\";\n",
       "    }\n",
       "    if (root.Bokeh !== undefined) {\n",
       "      if (el != null) {\n",
       "        el.textContent = \"BokehJS \" + root.Bokeh.version + \" successfully loaded.\";\n",
       "      }\n",
       "    } else if (Date.now() < root._bokeh_timeout) {\n",
       "      setTimeout(display_loaded, 100)\n",
       "    }\n",
       "  }\n",
       "\n",
       "\n",
       "  function run_callbacks() {\n",
       "    try {\n",
       "      root._bokeh_onload_callbacks.forEach(function(callback) {\n",
       "        if (callback != null)\n",
       "          callback();\n",
       "      });\n",
       "    } finally {\n",
       "      delete root._bokeh_onload_callbacks\n",
       "    }\n",
       "    console.debug(\"Bokeh: all callbacks have finished\");\n",
       "  }\n",
       "\n",
       "  function load_libs(css_urls, js_urls, callback) {\n",
       "    if (css_urls == null) css_urls = [];\n",
       "    if (js_urls == null) js_urls = [];\n",
       "\n",
       "    root._bokeh_onload_callbacks.push(callback);\n",
       "    if (root._bokeh_is_loading > 0) {\n",
       "      console.debug(\"Bokeh: BokehJS is being loaded, scheduling callback at\", now());\n",
       "      return null;\n",
       "    }\n",
       "    if (js_urls == null || js_urls.length === 0) {\n",
       "      run_callbacks();\n",
       "      return null;\n",
       "    }\n",
       "    console.debug(\"Bokeh: BokehJS not loaded, scheduling load and callback at\", now());\n",
       "    root._bokeh_is_loading = css_urls.length + js_urls.length;\n",
       "\n",
       "    function on_load() {\n",
       "      root._bokeh_is_loading--;\n",
       "      if (root._bokeh_is_loading === 0) {\n",
       "        console.debug(\"Bokeh: all BokehJS libraries/stylesheets loaded\");\n",
       "        run_callbacks()\n",
       "      }\n",
       "    }\n",
       "\n",
       "    function on_error() {\n",
       "      console.error(\"failed to load \" + url);\n",
       "    }\n",
       "\n",
       "    for (var i = 0; i < css_urls.length; i++) {\n",
       "      var url = css_urls[i];\n",
       "      const element = document.createElement(\"link\");\n",
       "      element.onload = on_load;\n",
       "      element.onerror = on_error;\n",
       "      element.rel = \"stylesheet\";\n",
       "      element.type = \"text/css\";\n",
       "      element.href = url;\n",
       "      console.debug(\"Bokeh: injecting link tag for BokehJS stylesheet: \", url);\n",
       "      document.body.appendChild(element);\n",
       "    }\n",
       "\n",
       "    for (var i = 0; i < js_urls.length; i++) {\n",
       "      var url = js_urls[i];\n",
       "      var element = document.createElement('script');\n",
       "      element.onload = on_load;\n",
       "      element.onerror = on_error;\n",
       "      element.async = false;\n",
       "      element.src = url;\n",
       "      console.debug(\"Bokeh: injecting script tag for BokehJS library: \", url);\n",
       "      document.head.appendChild(element);\n",
       "    }\n",
       "  };var element = document.getElementById(\"1001\");\n",
       "  if (element == null) {\n",
       "    console.error(\"Bokeh: ERROR: autoload.js configured with elementid '1001' but no matching script tag was found. \")\n",
       "    return false;\n",
       "  }\n",
       "\n",
       "  function inject_raw_css(css) {\n",
       "    const element = document.createElement(\"style\");\n",
       "    element.appendChild(document.createTextNode(css));\n",
       "    document.body.appendChild(element);\n",
       "  }\n",
       "\n",
       "  var js_urls = [\"https://cdn.pydata.org/bokeh/release/bokeh-1.2.0.min.js\", \"https://cdn.pydata.org/bokeh/release/bokeh-widgets-1.2.0.min.js\", \"https://cdn.pydata.org/bokeh/release/bokeh-tables-1.2.0.min.js\", \"https://cdn.pydata.org/bokeh/release/bokeh-gl-1.2.0.min.js\"];\n",
       "  var css_urls = [\"https://cdn.pydata.org/bokeh/release/bokeh-1.2.0.min.css\", \"https://cdn.pydata.org/bokeh/release/bokeh-widgets-1.2.0.min.css\", \"https://cdn.pydata.org/bokeh/release/bokeh-tables-1.2.0.min.css\"];\n",
       "\n",
       "  var inline_js = [\n",
       "    function(Bokeh) {\n",
       "      Bokeh.set_log_level(\"info\");\n",
       "    },\n",
       "    \n",
       "    function(Bokeh) {\n",
       "      \n",
       "    },\n",
       "    function(Bokeh) {} // ensure no trailing comma for IE\n",
       "  ];\n",
       "\n",
       "  function run_inline_js() {\n",
       "    \n",
       "    if ((root.Bokeh !== undefined) || (force === true)) {\n",
       "      for (var i = 0; i < inline_js.length; i++) {\n",
       "        inline_js[i].call(root, root.Bokeh);\n",
       "      }if (force === true) {\n",
       "        display_loaded();\n",
       "      }} else if (Date.now() < root._bokeh_timeout) {\n",
       "      setTimeout(run_inline_js, 100);\n",
       "    } else if (!root._bokeh_failed_load) {\n",
       "      console.log(\"Bokeh: BokehJS failed to load within specified timeout.\");\n",
       "      root._bokeh_failed_load = true;\n",
       "    } else if (force !== true) {\n",
       "      var cell = $(document.getElementById(\"1001\")).parents('.cell').data().cell;\n",
       "      cell.output_area.append_execute_result(NB_LOAD_WARNING)\n",
       "    }\n",
       "\n",
       "  }\n",
       "\n",
       "  if (root._bokeh_is_loading === 0) {\n",
       "    console.debug(\"Bokeh: BokehJS loaded, going straight to plotting\");\n",
       "    run_inline_js();\n",
       "  } else {\n",
       "    load_libs(css_urls, js_urls, function() {\n",
       "      console.debug(\"Bokeh: BokehJS plotting callback run at\", now());\n",
       "      run_inline_js();\n",
       "    });\n",
       "  }\n",
       "}(window));"
      ],
      "application/vnd.bokehjs_load.v0+json": "\n(function(root) {\n  function now() {\n    return new Date();\n  }\n\n  var force = true;\n\n  if (typeof root._bokeh_onload_callbacks === \"undefined\" || force === true) {\n    root._bokeh_onload_callbacks = [];\n    root._bokeh_is_loading = undefined;\n  }\n\n  \n\n  \n  if (typeof (root._bokeh_timeout) === \"undefined\" || force === true) {\n    root._bokeh_timeout = Date.now() + 5000;\n    root._bokeh_failed_load = false;\n  }\n\n  var NB_LOAD_WARNING = {'data': {'text/html':\n     \"<div style='background-color: #fdd'>\\n\"+\n     \"<p>\\n\"+\n     \"BokehJS does not appear to have successfully loaded. If loading BokehJS from CDN, this \\n\"+\n     \"may be due to a slow or bad network connection. Possible fixes:\\n\"+\n     \"</p>\\n\"+\n     \"<ul>\\n\"+\n     \"<li>re-rerun `output_notebook()` to attempt to load from CDN again, or</li>\\n\"+\n     \"<li>use INLINE resources instead, as so:</li>\\n\"+\n     \"</ul>\\n\"+\n     \"<code>\\n\"+\n     \"from bokeh.resources import INLINE\\n\"+\n     \"output_notebook(resources=INLINE)\\n\"+\n     \"</code>\\n\"+\n     \"</div>\"}};\n\n  function display_loaded() {\n    var el = document.getElementById(\"1001\");\n    if (el != null) {\n      el.textContent = \"BokehJS is loading...\";\n    }\n    if (root.Bokeh !== undefined) {\n      if (el != null) {\n        el.textContent = \"BokehJS \" + root.Bokeh.version + \" successfully loaded.\";\n      }\n    } else if (Date.now() < root._bokeh_timeout) {\n      setTimeout(display_loaded, 100)\n    }\n  }\n\n\n  function run_callbacks() {\n    try {\n      root._bokeh_onload_callbacks.forEach(function(callback) {\n        if (callback != null)\n          callback();\n      });\n    } finally {\n      delete root._bokeh_onload_callbacks\n    }\n    console.debug(\"Bokeh: all callbacks have finished\");\n  }\n\n  function load_libs(css_urls, js_urls, callback) {\n    if (css_urls == null) css_urls = [];\n    if (js_urls == null) js_urls = [];\n\n    root._bokeh_onload_callbacks.push(callback);\n    if (root._bokeh_is_loading > 0) {\n      console.debug(\"Bokeh: BokehJS is being loaded, scheduling callback at\", now());\n      return null;\n    }\n    if (js_urls == null || js_urls.length === 0) {\n      run_callbacks();\n      return null;\n    }\n    console.debug(\"Bokeh: BokehJS not loaded, scheduling load and callback at\", now());\n    root._bokeh_is_loading = css_urls.length + js_urls.length;\n\n    function on_load() {\n      root._bokeh_is_loading--;\n      if (root._bokeh_is_loading === 0) {\n        console.debug(\"Bokeh: all BokehJS libraries/stylesheets loaded\");\n        run_callbacks()\n      }\n    }\n\n    function on_error() {\n      console.error(\"failed to load \" + url);\n    }\n\n    for (var i = 0; i < css_urls.length; i++) {\n      var url = css_urls[i];\n      const element = document.createElement(\"link\");\n      element.onload = on_load;\n      element.onerror = on_error;\n      element.rel = \"stylesheet\";\n      element.type = \"text/css\";\n      element.href = url;\n      console.debug(\"Bokeh: injecting link tag for BokehJS stylesheet: \", url);\n      document.body.appendChild(element);\n    }\n\n    for (var i = 0; i < js_urls.length; i++) {\n      var url = js_urls[i];\n      var element = document.createElement('script');\n      element.onload = on_load;\n      element.onerror = on_error;\n      element.async = false;\n      element.src = url;\n      console.debug(\"Bokeh: injecting script tag for BokehJS library: \", url);\n      document.head.appendChild(element);\n    }\n  };var element = document.getElementById(\"1001\");\n  if (element == null) {\n    console.error(\"Bokeh: ERROR: autoload.js configured with elementid '1001' but no matching script tag was found. \")\n    return false;\n  }\n\n  function inject_raw_css(css) {\n    const element = document.createElement(\"style\");\n    element.appendChild(document.createTextNode(css));\n    document.body.appendChild(element);\n  }\n\n  var js_urls = [\"https://cdn.pydata.org/bokeh/release/bokeh-1.2.0.min.js\", \"https://cdn.pydata.org/bokeh/release/bokeh-widgets-1.2.0.min.js\", \"https://cdn.pydata.org/bokeh/release/bokeh-tables-1.2.0.min.js\", \"https://cdn.pydata.org/bokeh/release/bokeh-gl-1.2.0.min.js\"];\n  var css_urls = [\"https://cdn.pydata.org/bokeh/release/bokeh-1.2.0.min.css\", \"https://cdn.pydata.org/bokeh/release/bokeh-widgets-1.2.0.min.css\", \"https://cdn.pydata.org/bokeh/release/bokeh-tables-1.2.0.min.css\"];\n\n  var inline_js = [\n    function(Bokeh) {\n      Bokeh.set_log_level(\"info\");\n    },\n    \n    function(Bokeh) {\n      \n    },\n    function(Bokeh) {} // ensure no trailing comma for IE\n  ];\n\n  function run_inline_js() {\n    \n    if ((root.Bokeh !== undefined) || (force === true)) {\n      for (var i = 0; i < inline_js.length; i++) {\n        inline_js[i].call(root, root.Bokeh);\n      }if (force === true) {\n        display_loaded();\n      }} else if (Date.now() < root._bokeh_timeout) {\n      setTimeout(run_inline_js, 100);\n    } else if (!root._bokeh_failed_load) {\n      console.log(\"Bokeh: BokehJS failed to load within specified timeout.\");\n      root._bokeh_failed_load = true;\n    } else if (force !== true) {\n      var cell = $(document.getElementById(\"1001\")).parents('.cell').data().cell;\n      cell.output_area.append_execute_result(NB_LOAD_WARNING)\n    }\n\n  }\n\n  if (root._bokeh_is_loading === 0) {\n    console.debug(\"Bokeh: BokehJS loaded, going straight to plotting\");\n    run_inline_js();\n  } else {\n    load_libs(css_urls, js_urls, function() {\n      console.debug(\"Bokeh: BokehJS plotting callback run at\", now());\n      run_inline_js();\n    });\n  }\n}(window));"
     },
     "metadata": {},
     "output_type": "display_data"
    }
   ],
   "source": [
    "output_notebook()"
   ]
  },
  {
   "cell_type": "code",
   "execution_count": 6,
   "metadata": {},
   "outputs": [],
   "source": [
    "# load sound wave\n",
    "feelgood = wave.open(\"/home/leo/Music/lucaStragnoli-FeelGoodINC.wav\")"
   ]
  },
  {
   "cell_type": "code",
   "execution_count": 7,
   "metadata": {},
   "outputs": [],
   "source": [
    "wparams = feelgood.getparams()"
   ]
  },
  {
   "cell_type": "code",
   "execution_count": 8,
   "metadata": {},
   "outputs": [
    {
     "data": {
      "text/plain": [
       "_wave_params(nchannels=2, sampwidth=2, framerate=44100, nframes=8580096, comptype='NONE', compname='not compressed')"
      ]
     },
     "execution_count": 8,
     "metadata": {},
     "output_type": "execute_result"
    }
   ],
   "source": [
    "wparams"
   ]
  },
  {
   "cell_type": "code",
   "execution_count": 9,
   "metadata": {},
   "outputs": [],
   "source": [
    "tsec = float(wparams.nframes)/wparams.framerate"
   ]
  },
  {
   "cell_type": "code",
   "execution_count": 10,
   "metadata": {},
   "outputs": [
    {
     "data": {
      "text/plain": [
       "3.2426666666666666"
      ]
     },
     "execution_count": 10,
     "metadata": {},
     "output_type": "execute_result"
    }
   ],
   "source": [
    "tsec / 60"
   ]
  },
  {
   "cell_type": "code",
   "execution_count": 11,
   "metadata": {},
   "outputs": [],
   "source": [
    "# load soundwave to numpy (to do nice graphs we need it)\n",
    "npwavread = wavread(\"/home/leo/Music/lucaStragnoli-FeelGoodINC.wav\")"
   ]
  },
  {
   "cell_type": "code",
   "execution_count": 12,
   "metadata": {},
   "outputs": [
    {
     "data": {
      "text/plain": [
       "(8580096, 2)"
      ]
     },
     "execution_count": 12,
     "metadata": {},
     "output_type": "execute_result"
    }
   ],
   "source": [
    "npwavread[1].shape"
   ]
  },
  {
   "cell_type": "code",
   "execution_count": 13,
   "metadata": {},
   "outputs": [],
   "source": [
    "fgfft = np.fft.fft(npwavread[1],axis=-1)"
   ]
  },
  {
   "cell_type": "code",
   "execution_count": 14,
   "metadata": {},
   "outputs": [
    {
     "data": {
      "text/plain": [
       "array([[0., 0.],\n",
       "       [0., 0.],\n",
       "       [0., 0.],\n",
       "       ...,\n",
       "       [0., 0.],\n",
       "       [0., 0.],\n",
       "       [0., 0.]])"
      ]
     },
     "execution_count": 14,
     "metadata": {},
     "output_type": "execute_result"
    }
   ],
   "source": [
    "fgfft.real"
   ]
  },
  {
   "cell_type": "code",
   "execution_count": 15,
   "metadata": {},
   "outputs": [],
   "source": [
    "#plt.plot(freq, fgfft.real, freq, fgfft.imag)\n",
    "# plt.plot(fgfft.real)\n",
    "# plt.show()"
   ]
  },
  {
   "cell_type": "code",
   "execution_count": 16,
   "metadata": {},
   "outputs": [
    {
     "name": "stderr",
     "output_type": "stream",
     "text": [
      "/home/leo/venv3/lib/python3.7/site-packages/scipy/signal/spectral.py:1969: UserWarning: nperseg = 256 is greater than input length  = 2, using nperseg = 2\n",
      "  .format(nperseg, input_length))\n"
     ]
    }
   ],
   "source": [
    "f, t, Sxx = signal.spectrogram(npwavread[1])"
   ]
  },
  {
   "cell_type": "code",
   "execution_count": 17,
   "metadata": {},
   "outputs": [
    {
     "data": {
      "text/plain": [
       "((2,), (1,), (8580096, 2, 1))"
      ]
     },
     "execution_count": 17,
     "metadata": {},
     "output_type": "execute_result"
    }
   ],
   "source": [
    "f.shape, t.shape, Sxx.shape"
   ]
  },
  {
   "cell_type": "code",
   "execution_count": 18,
   "metadata": {},
   "outputs": [],
   "source": [
    "# plt.pcolormesh(t, f, Sxx[:1])\n",
    "# plt.ylabel('Frequency [Hz]')\n",
    "# plt.xlabel('Time [sec]')\n",
    "# plt.show()"
   ]
  },
  {
   "cell_type": "code",
   "execution_count": 19,
   "metadata": {},
   "outputs": [],
   "source": [
    "npleft, npright = npwavread[1].transpose()"
   ]
  },
  {
   "cell_type": "code",
   "execution_count": 20,
   "metadata": {},
   "outputs": [
    {
     "data": {
      "text/plain": [
       "(8580096,)"
      ]
     },
     "execution_count": 20,
     "metadata": {},
     "output_type": "execute_result"
    }
   ],
   "source": [
    "npright.shape"
   ]
  },
  {
   "cell_type": "code",
   "execution_count": 21,
   "metadata": {},
   "outputs": [
    {
     "data": {
      "text/plain": [
       "32767"
      ]
     },
     "execution_count": 21,
     "metadata": {},
     "output_type": "execute_result"
    }
   ],
   "source": [
    "np.max(npwavread[1])"
   ]
  },
  {
   "cell_type": "code",
   "execution_count": 22,
   "metadata": {},
   "outputs": [],
   "source": [
    "norm_vecs = torchnorm(FloatTensor(npwavread[1]), eps=1e-16).numpy()"
   ]
  },
  {
   "cell_type": "code",
   "execution_count": 23,
   "metadata": {},
   "outputs": [
    {
     "data": {
      "text/plain": [
       "-1.0"
      ]
     },
     "execution_count": 23,
     "metadata": {},
     "output_type": "execute_result"
    }
   ],
   "source": [
    "np.min(norm_vecs)"
   ]
  },
  {
   "cell_type": "code",
   "execution_count": 24,
   "metadata": {},
   "outputs": [],
   "source": [
    "SAMPLES = 128"
   ]
  },
  {
   "cell_type": "code",
   "execution_count": 25,
   "metadata": {},
   "outputs": [],
   "source": [
    "resampled = sp.signal.resample(npwavread[1], SAMPLES)"
   ]
  },
  {
   "cell_type": "code",
   "execution_count": 26,
   "metadata": {},
   "outputs": [],
   "source": [
    "resampled = np.transpose(resampled)"
   ]
  },
  {
   "cell_type": "code",
   "execution_count": 27,
   "metadata": {},
   "outputs": [
    {
     "data": {
      "text/plain": [
       "((2, 128), 14.016053694302132, -16.708223775666923)"
      ]
     },
     "execution_count": 27,
     "metadata": {},
     "output_type": "execute_result"
    }
   ],
   "source": [
    "resampled.shape, resampled.max(), resampled.min()"
   ]
  },
  {
   "cell_type": "code",
   "execution_count": 28,
   "metadata": {},
   "outputs": [
    {
     "data": {
      "text/plain": [
       "array([[-1.02882238,  1.28023031, -3.0595801 , -1.86459215,  0.94286881,\n",
       "         5.36942226,  1.30012673, -3.65477935,  2.30575476,  1.78652749],\n",
       "       [-0.1406882 ,  5.26977948, -5.37238399,  3.4152935 , -5.12355997,\n",
       "        -2.35701064, -3.78216841,  4.89446312, -3.53016807,  1.55912549]])"
      ]
     },
     "execution_count": 28,
     "metadata": {},
     "output_type": "execute_result"
    }
   ],
   "source": [
    "resampled[:,:10]"
   ]
  },
  {
   "cell_type": "code",
   "execution_count": 29,
   "metadata": {},
   "outputs": [
    {
     "data": {
      "text/plain": [
       "(128, 2)"
      ]
     },
     "execution_count": 29,
     "metadata": {},
     "output_type": "execute_result"
    }
   ],
   "source": [
    "np.transpose(resampled).shape"
   ]
  },
  {
   "cell_type": "code",
   "execution_count": 30,
   "metadata": {},
   "outputs": [],
   "source": [
    "x = np.abs(np.transpose(resampled[0]))"
   ]
  },
  {
   "cell_type": "code",
   "execution_count": 31,
   "metadata": {},
   "outputs": [],
   "source": [
    "y = np.linspace(0,1, SAMPLES)"
   ]
  },
  {
   "cell_type": "code",
   "execution_count": 32,
   "metadata": {},
   "outputs": [
    {
     "data": {
      "text/plain": [
       "((128,), (128,))"
      ]
     },
     "execution_count": 32,
     "metadata": {},
     "output_type": "execute_result"
    }
   ],
   "source": [
    "y.shape, x.shape"
   ]
  },
  {
   "cell_type": "code",
   "execution_count": 33,
   "metadata": {},
   "outputs": [],
   "source": [
    "# p = figure(title=\"linear\", x_axis_label='time', y_axis_label='volume')"
   ]
  },
  {
   "cell_type": "code",
   "execution_count": 34,
   "metadata": {},
   "outputs": [],
   "source": [
    "# p.line(np.transpose(resampled[0]), y, line_width=2)"
   ]
  },
  {
   "cell_type": "code",
   "execution_count": 35,
   "metadata": {},
   "outputs": [],
   "source": [
    "# show(p)"
   ]
  },
  {
   "cell_type": "code",
   "execution_count": 36,
   "metadata": {},
   "outputs": [],
   "source": [
    "p1 = figure(title=\"linear\", x_axis_label='time', y_axis_label='volume')"
   ]
  },
  {
   "cell_type": "code",
   "execution_count": 37,
   "metadata": {},
   "outputs": [
    {
     "data": {
      "text/plain": [
       "(128,)"
      ]
     },
     "execution_count": 37,
     "metadata": {},
     "output_type": "execute_result"
    }
   ],
   "source": [
    "y.shape"
   ]
  },
  {
   "cell_type": "code",
   "execution_count": 38,
   "metadata": {},
   "outputs": [
    {
     "data": {
      "text/html": [
       "<div style=\"display: table;\"><div style=\"display: table-row;\"><div style=\"display: table-cell;\"><b title=\"bokeh.models.renderers.GlyphRenderer\">GlyphRenderer</b>(</div><div style=\"display: table-cell;\">id&nbsp;=&nbsp;'1039', <span id=\"1042\" style=\"cursor: pointer;\">&hellip;)</span></div></div><div class=\"1041\" style=\"display: none;\"><div style=\"display: table-cell;\"></div><div style=\"display: table-cell;\">data_source&nbsp;=&nbsp;ColumnDataSource(id='1036', ...),</div></div><div class=\"1041\" style=\"display: none;\"><div style=\"display: table-cell;\"></div><div style=\"display: table-cell;\">glyph&nbsp;=&nbsp;Line(id='1037', ...),</div></div><div class=\"1041\" style=\"display: none;\"><div style=\"display: table-cell;\"></div><div style=\"display: table-cell;\">hover_glyph&nbsp;=&nbsp;None,</div></div><div class=\"1041\" style=\"display: none;\"><div style=\"display: table-cell;\"></div><div style=\"display: table-cell;\">js_event_callbacks&nbsp;=&nbsp;{},</div></div><div class=\"1041\" style=\"display: none;\"><div style=\"display: table-cell;\"></div><div style=\"display: table-cell;\">js_property_callbacks&nbsp;=&nbsp;{},</div></div><div class=\"1041\" style=\"display: none;\"><div style=\"display: table-cell;\"></div><div style=\"display: table-cell;\">level&nbsp;=&nbsp;'glyph',</div></div><div class=\"1041\" style=\"display: none;\"><div style=\"display: table-cell;\"></div><div style=\"display: table-cell;\">muted&nbsp;=&nbsp;False,</div></div><div class=\"1041\" style=\"display: none;\"><div style=\"display: table-cell;\"></div><div style=\"display: table-cell;\">muted_glyph&nbsp;=&nbsp;None,</div></div><div class=\"1041\" style=\"display: none;\"><div style=\"display: table-cell;\"></div><div style=\"display: table-cell;\">name&nbsp;=&nbsp;None,</div></div><div class=\"1041\" style=\"display: none;\"><div style=\"display: table-cell;\"></div><div style=\"display: table-cell;\">nonselection_glyph&nbsp;=&nbsp;Line(id='1038', ...),</div></div><div class=\"1041\" style=\"display: none;\"><div style=\"display: table-cell;\"></div><div style=\"display: table-cell;\">selection_glyph&nbsp;=&nbsp;None,</div></div><div class=\"1041\" style=\"display: none;\"><div style=\"display: table-cell;\"></div><div style=\"display: table-cell;\">subscribed_events&nbsp;=&nbsp;[],</div></div><div class=\"1041\" style=\"display: none;\"><div style=\"display: table-cell;\"></div><div style=\"display: table-cell;\">tags&nbsp;=&nbsp;[],</div></div><div class=\"1041\" style=\"display: none;\"><div style=\"display: table-cell;\"></div><div style=\"display: table-cell;\">view&nbsp;=&nbsp;CDSView(id='1040', ...),</div></div><div class=\"1041\" style=\"display: none;\"><div style=\"display: table-cell;\"></div><div style=\"display: table-cell;\">visible&nbsp;=&nbsp;True,</div></div><div class=\"1041\" style=\"display: none;\"><div style=\"display: table-cell;\"></div><div style=\"display: table-cell;\">x_range_name&nbsp;=&nbsp;'default',</div></div><div class=\"1041\" style=\"display: none;\"><div style=\"display: table-cell;\"></div><div style=\"display: table-cell;\">y_range_name&nbsp;=&nbsp;'default')</div></div></div>\n",
       "<script>\n",
       "(function() {\n",
       "  var expanded = false;\n",
       "  var ellipsis = document.getElementById(\"1042\");\n",
       "  ellipsis.addEventListener(\"click\", function() {\n",
       "    var rows = document.getElementsByClassName(\"1041\");\n",
       "    for (var i = 0; i < rows.length; i++) {\n",
       "      var el = rows[i];\n",
       "      el.style.display = expanded ? \"none\" : \"table-row\";\n",
       "    }\n",
       "    ellipsis.innerHTML = expanded ? \"&hellip;)\" : \"&lsaquo;&lsaquo;&lsaquo;\";\n",
       "    expanded = !expanded;\n",
       "  });\n",
       "})();\n",
       "</script>\n"
      ],
      "text/plain": [
       "GlyphRenderer(id='1039', ...)"
      ]
     },
     "execution_count": 38,
     "metadata": {},
     "output_type": "execute_result"
    }
   ],
   "source": [
    "# p1.line(y, np.transpose(resampled)[0], line_width=2)\n",
    "p1.line(y, x, line_width=2)"
   ]
  },
  {
   "cell_type": "code",
   "execution_count": 39,
   "metadata": {},
   "outputs": [
    {
     "data": {
      "text/html": [
       "\n",
       "\n",
       "\n",
       "\n",
       "\n",
       "\n",
       "  <div class=\"bk-root\" id=\"e4b8254d-084c-4878-acb3-e567e4df939d\" data-root-id=\"1002\"></div>\n"
      ]
     },
     "metadata": {},
     "output_type": "display_data"
    },
    {
     "data": {
      "application/javascript": [
       "(function(root) {\n",
       "  function embed_document(root) {\n",
       "    \n",
       "  var docs_json = {\"4c9d8ba4-8d25-43fb-85c5-4625c3acffae\":{\"roots\":{\"references\":[{\"attributes\":{\"below\":[{\"id\":\"1013\",\"type\":\"LinearAxis\"}],\"center\":[{\"id\":\"1017\",\"type\":\"Grid\"},{\"id\":\"1022\",\"type\":\"Grid\"}],\"left\":[{\"id\":\"1018\",\"type\":\"LinearAxis\"}],\"renderers\":[{\"id\":\"1039\",\"type\":\"GlyphRenderer\"}],\"title\":{\"id\":\"1003\",\"type\":\"Title\"},\"toolbar\":{\"id\":\"1029\",\"type\":\"Toolbar\"},\"x_range\":{\"id\":\"1005\",\"type\":\"DataRange1d\"},\"x_scale\":{\"id\":\"1009\",\"type\":\"LinearScale\"},\"y_range\":{\"id\":\"1007\",\"type\":\"DataRange1d\"},\"y_scale\":{\"id\":\"1011\",\"type\":\"LinearScale\"}},\"id\":\"1002\",\"subtype\":\"Figure\",\"type\":\"Plot\"},{\"attributes\":{},\"id\":\"1027\",\"type\":\"ResetTool\"},{\"attributes\":{\"text\":\"linear\"},\"id\":\"1003\",\"type\":\"Title\"},{\"attributes\":{},\"id\":\"1026\",\"type\":\"SaveTool\"},{\"attributes\":{},\"id\":\"1024\",\"type\":\"WheelZoomTool\"},{\"attributes\":{\"active_drag\":\"auto\",\"active_inspect\":\"auto\",\"active_multi\":null,\"active_scroll\":\"auto\",\"active_tap\":\"auto\",\"tools\":[{\"id\":\"1023\",\"type\":\"PanTool\"},{\"id\":\"1024\",\"type\":\"WheelZoomTool\"},{\"id\":\"1025\",\"type\":\"BoxZoomTool\"},{\"id\":\"1026\",\"type\":\"SaveTool\"},{\"id\":\"1027\",\"type\":\"ResetTool\"},{\"id\":\"1028\",\"type\":\"HelpTool\"}]},\"id\":\"1029\",\"type\":\"Toolbar\"},{\"attributes\":{\"axis_label\":\"volume\",\"formatter\":{\"id\":\"1046\",\"type\":\"BasicTickFormatter\"},\"ticker\":{\"id\":\"1019\",\"type\":\"BasicTicker\"}},\"id\":\"1018\",\"type\":\"LinearAxis\"},{\"attributes\":{\"callback\":null},\"id\":\"1007\",\"type\":\"DataRange1d\"},{\"attributes\":{\"ticker\":{\"id\":\"1014\",\"type\":\"BasicTicker\"}},\"id\":\"1017\",\"type\":\"Grid\"},{\"attributes\":{},\"id\":\"1009\",\"type\":\"LinearScale\"},{\"attributes\":{},\"id\":\"1014\",\"type\":\"BasicTicker\"},{\"attributes\":{},\"id\":\"1011\",\"type\":\"LinearScale\"},{\"attributes\":{},\"id\":\"1050\",\"type\":\"UnionRenderers\"},{\"attributes\":{\"axis_label\":\"time\",\"formatter\":{\"id\":\"1044\",\"type\":\"BasicTickFormatter\"},\"ticker\":{\"id\":\"1014\",\"type\":\"BasicTicker\"}},\"id\":\"1013\",\"type\":\"LinearAxis\"},{\"attributes\":{},\"id\":\"1049\",\"type\":\"Selection\"},{\"attributes\":{},\"id\":\"1019\",\"type\":\"BasicTicker\"},{\"attributes\":{\"bottom_units\":\"screen\",\"fill_alpha\":{\"value\":0.5},\"fill_color\":{\"value\":\"lightgrey\"},\"left_units\":\"screen\",\"level\":\"overlay\",\"line_alpha\":{\"value\":1.0},\"line_color\":{\"value\":\"black\"},\"line_dash\":[4,4],\"line_width\":{\"value\":2},\"render_mode\":\"css\",\"right_units\":\"screen\",\"top_units\":\"screen\"},\"id\":\"1048\",\"type\":\"BoxAnnotation\"},{\"attributes\":{\"dimension\":1,\"ticker\":{\"id\":\"1019\",\"type\":\"BasicTicker\"}},\"id\":\"1022\",\"type\":\"Grid\"},{\"attributes\":{\"data_source\":{\"id\":\"1036\",\"type\":\"ColumnDataSource\"},\"glyph\":{\"id\":\"1037\",\"type\":\"Line\"},\"hover_glyph\":null,\"muted_glyph\":null,\"nonselection_glyph\":{\"id\":\"1038\",\"type\":\"Line\"},\"selection_glyph\":null,\"view\":{\"id\":\"1040\",\"type\":\"CDSView\"}},\"id\":\"1039\",\"type\":\"GlyphRenderer\"},{\"attributes\":{\"line_color\":\"#1f77b4\",\"line_width\":2,\"x\":{\"field\":\"x\"},\"y\":{\"field\":\"y\"}},\"id\":\"1037\",\"type\":\"Line\"},{\"attributes\":{},\"id\":\"1046\",\"type\":\"BasicTickFormatter\"},{\"attributes\":{\"callback\":null,\"data\":{\"x\":{\"__ndarray__\":\"AAAAAAAAAAAIBAKBQCCAPwgEAoFAIJA/DAaDwWAwmD8IBAKBQCCgPwqFQqFQKKQ/DAaDwWAwqD8Oh8PhcDisPwgEAoFAILA/iUQikUgksj8KhUKhUCi0P4vFYrFYLLY/DAaDwWAwuD+NRqPRaDS6Pw6Hw+FwOLw/j8fj8Xg8vj8IBAKBQCDAP0gkEolEIsE/iUQikUgkwj/KZDKZTCbDPwqFQqFQKMQ/SqVSqVQqxT+LxWKxWCzGP8zlcrlcLsc/DAaDwWAwyD9MJpPJZDLJP41Go9FoNMo/zmaz2Ww2yz8Oh8PhcDjMP06n0+l0Os0/j8fj8Xg8zj/Q5/P5fD7PPwgEAoFAINA/KBQKhUKh0D9IJBKJRCLRP2k0Go1Go9E/iUQikUgk0j+pVCqVSqXSP8pkMplMJtM/6nQ6nU6n0z8KhUKhUCjUPyqVSqVSqdQ/SqVSqVQq1T9rtVqtVqvVP4vFYrFYLNY/q9VqtVqt1j/M5XK5XC7XP+z1er1er9c/DAaDwWAw2D8sFovFYrHYP0wmk8lkMtk/bTabzWaz2T+NRqPRaDTaP61Wq9Vqtdo/zmaz2Ww22z/udrvdbrfbPw6Hw+FwONw/LpfL5XK53D9Op9PpdDrdP2+32+12u90/j8fj8Xg83j+v1+v1er3eP9Dn8/l8Pt8/8Pf7/X6/3z8IBAKBQCDgPxgMBoPBYOA/KBQKhUKh4D84HA6Hw+HgP0gkEolEIuE/WSwWi8Vi4T9pNBqNRqPhP3k8Ho/H4+E/iUQikUgk4j+ZTCaTyWTiP6lUKpVKpeI/uVwul8vl4j/KZDKZTCbjP9psNpvNZuM/6nQ6nU6n4z/6fD6fz+fjPwqFQqFQKOQ/Go1Go9Fo5D8qlUqlUqnkPzqdTqfT6eQ/SqVSqVQq5T9brVar1WrlP2u1Wq1Wq+U/e71er9fr5T+LxWKxWCzmP5vNZrPZbOY/q9VqtVqt5j+73W632+3mP8zlcrlcLuc/3O12u91u5z/s9Xq9Xq/nP/z9fr/f7+c/DAaDwWAw6D8cDofD4XDoPywWi8Viseg/PB6Px+Px6D9MJpPJZDLpP10ul8vlcuk/bTabzWaz6T99Pp/P5/PpP41Go9FoNOo/nU6n0+l06j+tVqvVarXqP71er9fr9eo/zmaz2Ww26z/ebrfb7XbrP+52u91ut+s//n6/3+/36z8Oh8PhcDjsPx6Px+PxeOw/LpfL5XK57D8+n8/n8/nsP06n0+l0Ou0/X6/X6/V67T9vt9vtdrvtP3+/3+/3++0/j8fj8Xg87j+fz+fz+XzuP6/X6/V6ve4/v9/v9/v97j/Q5/P5fD7vP+Dv9/v9fu8/8Pf7/X6/7z8AAAAAAADwPw==\",\"dtype\":\"float64\",\"shape\":[128]},\"y\":{\"__ndarray__\":\"ZIWLdQ528D+9r8jF0nv0P5cguiEFeghAjSlfk17V/T8+ti04+yvuP9S6ctRJehVAsYeSr1HN9D8cAV/0/DwNQG5Rno0vcgJAQmfC2J2V/D8pB+7EcnwBQJJaJNkwUxNAnV87Iafy4j/NvYJVl+sVQAkikvRHCq0/Kjl7dBMYH0BmQCuocUwkQNvSuB+ZORdAv6dlWtJlD0Ap8sqwna8VQFkjld2Zeto/3D4noYRL/T+O7pbFdOuzP2SsAMByNPg/UXmcQtFxAkAIsLDNAQgXQDUR4PlxnCBA8rLGv24t9z+Uoh/mOfkEQGy2mm11EuM/lKPKxyPuzT/OSBUSt+IGQC83cz5+OvA/JRmrNz01dT/mhhs5hKzwP9koM8nHXABAihPqFJXZ0j9ohelWm24QQNfXj+gkshZAlj6JLbvWHUBgqtz8gHgBQDlFwgaKURdATnNMgiHjIEBY7uy1xQfyP8SFK3rErx5A7frm44lLyD+WM2+d2lEPQDlRMFHYDNM/vin5sB72H0BJxSkC/tcTQDb2O36bVBVAsohrU4EsIEAK940jh5TsP6Xf2W/3Ug5AZi3ixBeq9D8zSK0+cDYfQPHggHKtURJAitNzHl3WEkAouJXozEz5P79WrxuxEwZALwJsNIdbIkB2hm29cZ0hQAk/FEvpfvM/h2hDvQG64z+FFoHCbIvlP4AQEY4Hbes/+gGrOpjtCEABlega8sfxP73q1RbVewZAOqUwTRxnFEBAeuv3h6IAQGQtZJlgkfU/gwMYHa/q6D++9XxESCf3P569VG67X/U/bYrvY/jj8D8nfpXHZ0ChP2BuH8V2NABA+S6zDHfs2z/5BP1jHMv8P/ibibr1WgNARgsJJzXjzz+1/Jr+t2j+PypFiF0k6/Y/4j8LpQOAA0C5pq0gaT3tP/51NaJ32wZA8cfKEkq8DEBdBccNcBXwP/FgP3whcNY/+LHyIa7l4T+my0g3FdUvQO//7DgdzxtAvuOQf1lD+T++VznGZ3caQB6UvJk20S9A1+dBKJYN9T+B2evc6kHmP8Zct4ovYfY/nbhBRlCdAkBas33G59/2P7KpedZDKR9AxujGOLS4A0B60ANGGyQQQC/d5n29CBdAvBAH1ehz/z/ZAzb3t5kCQI/ydSx0ivM/ZOeMgbmv4D/MrqcPguUDQHLBMbd83wdAXhITD88W7j9riFVYY+ATQOGFYt/pINw/HxA6xwp6CUAGqtL3XhcbQDglA0HyqwJABYiAnBKfJkBDOJIMXM3pP6ylnTGSzvg/vhMsaO17+T98iCcEusIEQMPBXv3rcdo/nrO7olp5vj8jNgCu9arLPyCga9LylNU/nl3rWOTV3j8Q6wHed9DlPw==\",\"dtype\":\"float64\",\"shape\":[128]}},\"selected\":{\"id\":\"1049\",\"type\":\"Selection\"},\"selection_policy\":{\"id\":\"1050\",\"type\":\"UnionRenderers\"}},\"id\":\"1036\",\"type\":\"ColumnDataSource\"},{\"attributes\":{\"source\":{\"id\":\"1036\",\"type\":\"ColumnDataSource\"}},\"id\":\"1040\",\"type\":\"CDSView\"},{\"attributes\":{},\"id\":\"1023\",\"type\":\"PanTool\"},{\"attributes\":{},\"id\":\"1044\",\"type\":\"BasicTickFormatter\"},{\"attributes\":{\"line_alpha\":0.1,\"line_color\":\"#1f77b4\",\"line_width\":2,\"x\":{\"field\":\"x\"},\"y\":{\"field\":\"y\"}},\"id\":\"1038\",\"type\":\"Line\"},{\"attributes\":{\"overlay\":{\"id\":\"1048\",\"type\":\"BoxAnnotation\"}},\"id\":\"1025\",\"type\":\"BoxZoomTool\"},{\"attributes\":{},\"id\":\"1028\",\"type\":\"HelpTool\"},{\"attributes\":{\"callback\":null},\"id\":\"1005\",\"type\":\"DataRange1d\"}],\"root_ids\":[\"1002\"]},\"title\":\"Bokeh Application\",\"version\":\"1.2.0\"}};\n",
       "  var render_items = [{\"docid\":\"4c9d8ba4-8d25-43fb-85c5-4625c3acffae\",\"roots\":{\"1002\":\"e4b8254d-084c-4878-acb3-e567e4df939d\"}}];\n",
       "  root.Bokeh.embed.embed_items_notebook(docs_json, render_items);\n",
       "\n",
       "  }\n",
       "  if (root.Bokeh !== undefined) {\n",
       "    embed_document(root);\n",
       "  } else {\n",
       "    var attempts = 0;\n",
       "    var timer = setInterval(function(root) {\n",
       "      if (root.Bokeh !== undefined) {\n",
       "        embed_document(root);\n",
       "        clearInterval(timer);\n",
       "      }\n",
       "      attempts++;\n",
       "      if (attempts > 100) {\n",
       "        console.log(\"Bokeh: ERROR: Unable to run BokehJS code because BokehJS library is missing\");\n",
       "        clearInterval(timer);\n",
       "      }\n",
       "    }, 10, root)\n",
       "  }\n",
       "})(window);"
      ],
      "application/vnd.bokehjs_exec.v0+json": ""
     },
     "metadata": {
      "application/vnd.bokehjs_exec.v0+json": {
       "id": "1002"
      }
     },
     "output_type": "display_data"
    }
   ],
   "source": [
    "show(p1)"
   ]
  },
  {
   "cell_type": "code",
   "execution_count": 40,
   "metadata": {},
   "outputs": [
    {
     "data": {
      "text/plain": [
       "(GlyphRenderer(id='1139', ...),      q  r  counts\n",
       " 0    0  0       7\n",
       " 1    1 -1      20\n",
       " 2    1  0       9\n",
       " 3    2 -1      19\n",
       " 4    2  0       7\n",
       " 5    3 -1      14\n",
       " 6    3  0       5\n",
       " 7    4 -1       6\n",
       " 8    4  0       2\n",
       " 9    5 -1       4\n",
       " 10   5  0       2\n",
       " 11   6 -1       5\n",
       " 12   6  0       5\n",
       " 13   7 -1       2\n",
       " 14   7  0       3\n",
       " 15   8 -1       2\n",
       " 16   9 -1       3\n",
       " 17   9  0       4\n",
       " 18  10 -1       1\n",
       " 19  10  0       2\n",
       " 20  11 -1       2\n",
       " 21  12  0       1\n",
       " 22  14 -1       1\n",
       " 23  19 -1       2)"
      ]
     },
     "execution_count": 40,
     "metadata": {},
     "output_type": "execute_result"
    }
   ],
   "source": [
    "p2 = figure(title=\"hexbin\", x_axis_label='time', y_axis_label='volume')\n",
    "p2.hexbin(x, y, size=0.5, hover_color=\"pink\", hover_alpha=0.8)"
   ]
  },
  {
   "cell_type": "code",
   "execution_count": 41,
   "metadata": {},
   "outputs": [
    {
     "data": {
      "text/html": [
       "\n",
       "\n",
       "\n",
       "\n",
       "\n",
       "\n",
       "  <div class=\"bk-root\" id=\"7e2e3a4d-0af4-424a-9168-cbeaf0bdbfb5\" data-root-id=\"1099\"></div>\n"
      ]
     },
     "metadata": {},
     "output_type": "display_data"
    },
    {
     "data": {
      "application/javascript": [
       "(function(root) {\n",
       "  function embed_document(root) {\n",
       "    \n",
       "  var docs_json = {\"da47f29b-600b-46c0-91ee-2cdbe249f14d\":{\"roots\":{\"references\":[{\"attributes\":{\"below\":[{\"id\":\"1110\",\"type\":\"LinearAxis\"}],\"center\":[{\"id\":\"1114\",\"type\":\"Grid\"},{\"id\":\"1119\",\"type\":\"Grid\"}],\"left\":[{\"id\":\"1115\",\"type\":\"LinearAxis\"}],\"renderers\":[{\"id\":\"1139\",\"type\":\"GlyphRenderer\"}],\"title\":{\"id\":\"1100\",\"type\":\"Title\"},\"toolbar\":{\"id\":\"1126\",\"type\":\"Toolbar\"},\"x_range\":{\"id\":\"1102\",\"type\":\"DataRange1d\"},\"x_scale\":{\"id\":\"1106\",\"type\":\"LinearScale\"},\"y_range\":{\"id\":\"1104\",\"type\":\"DataRange1d\"},\"y_scale\":{\"id\":\"1108\",\"type\":\"LinearScale\"}},\"id\":\"1099\",\"subtype\":\"Figure\",\"type\":\"Plot\"},{\"attributes\":{},\"id\":\"1121\",\"type\":\"WheelZoomTool\"},{\"attributes\":{},\"id\":\"1116\",\"type\":\"BasicTicker\"},{\"attributes\":{\"axis_label\":\"volume\",\"formatter\":{\"id\":\"1152\",\"type\":\"BasicTickFormatter\"},\"ticker\":{\"id\":\"1116\",\"type\":\"BasicTicker\"}},\"id\":\"1115\",\"type\":\"LinearAxis\"},{\"attributes\":{},\"id\":\"1156\",\"type\":\"UnionRenderers\"},{\"attributes\":{\"text\":\"hexbin\"},\"id\":\"1100\",\"type\":\"Title\"},{\"attributes\":{\"dimension\":1,\"ticker\":{\"id\":\"1116\",\"type\":\"BasicTicker\"}},\"id\":\"1119\",\"type\":\"Grid\"},{\"attributes\":{\"overlay\":{\"id\":\"1154\",\"type\":\"BoxAnnotation\"}},\"id\":\"1122\",\"type\":\"BoxZoomTool\"},{\"attributes\":{},\"id\":\"1125\",\"type\":\"HelpTool\"},{\"attributes\":{\"active_drag\":\"auto\",\"active_inspect\":\"auto\",\"active_multi\":null,\"active_scroll\":\"auto\",\"active_tap\":\"auto\",\"tools\":[{\"id\":\"1120\",\"type\":\"PanTool\"},{\"id\":\"1121\",\"type\":\"WheelZoomTool\"},{\"id\":\"1122\",\"type\":\"BoxZoomTool\"},{\"id\":\"1123\",\"type\":\"SaveTool\"},{\"id\":\"1124\",\"type\":\"ResetTool\"},{\"id\":\"1125\",\"type\":\"HelpTool\"}]},\"id\":\"1126\",\"type\":\"Toolbar\"},{\"attributes\":{},\"id\":\"1108\",\"type\":\"LinearScale\"},{\"attributes\":{\"fill_alpha\":{\"value\":0.8},\"fill_color\":{\"value\":\"pink\"},\"line_alpha\":{\"value\":0.8},\"line_color\":{\"value\":\"pink\"},\"q\":{\"field\":\"q\"},\"r\":{\"field\":\"r\"},\"size\":0.5},\"id\":\"1138\",\"type\":\"HexTile\"},{\"attributes\":{\"high\":20,\"low\":0,\"palette\":[\"#440154\",\"#440255\",\"#440357\",\"#450558\",\"#45065A\",\"#45085B\",\"#46095C\",\"#460B5E\",\"#460C5F\",\"#460E61\",\"#470F62\",\"#471163\",\"#471265\",\"#471466\",\"#471567\",\"#471669\",\"#47186A\",\"#48196B\",\"#481A6C\",\"#481C6E\",\"#481D6F\",\"#481E70\",\"#482071\",\"#482172\",\"#482273\",\"#482374\",\"#472575\",\"#472676\",\"#472777\",\"#472878\",\"#472A79\",\"#472B7A\",\"#472C7B\",\"#462D7C\",\"#462F7C\",\"#46307D\",\"#46317E\",\"#45327F\",\"#45347F\",\"#453580\",\"#453681\",\"#443781\",\"#443982\",\"#433A83\",\"#433B83\",\"#433C84\",\"#423D84\",\"#423E85\",\"#424085\",\"#414186\",\"#414286\",\"#404387\",\"#404487\",\"#3F4587\",\"#3F4788\",\"#3E4888\",\"#3E4989\",\"#3D4A89\",\"#3D4B89\",\"#3D4C89\",\"#3C4D8A\",\"#3C4E8A\",\"#3B508A\",\"#3B518A\",\"#3A528B\",\"#3A538B\",\"#39548B\",\"#39558B\",\"#38568B\",\"#38578C\",\"#37588C\",\"#37598C\",\"#365A8C\",\"#365B8C\",\"#355C8C\",\"#355D8C\",\"#345E8D\",\"#345F8D\",\"#33608D\",\"#33618D\",\"#32628D\",\"#32638D\",\"#31648D\",\"#31658D\",\"#31668D\",\"#30678D\",\"#30688D\",\"#2F698D\",\"#2F6A8D\",\"#2E6B8E\",\"#2E6C8E\",\"#2E6D8E\",\"#2D6E8E\",\"#2D6F8E\",\"#2C708E\",\"#2C718E\",\"#2C728E\",\"#2B738E\",\"#2B748E\",\"#2A758E\",\"#2A768E\",\"#2A778E\",\"#29788E\",\"#29798E\",\"#287A8E\",\"#287A8E\",\"#287B8E\",\"#277C8E\",\"#277D8E\",\"#277E8E\",\"#267F8E\",\"#26808E\",\"#26818E\",\"#25828E\",\"#25838D\",\"#24848D\",\"#24858D\",\"#24868D\",\"#23878D\",\"#23888D\",\"#23898D\",\"#22898D\",\"#228A8D\",\"#228B8D\",\"#218C8D\",\"#218D8C\",\"#218E8C\",\"#208F8C\",\"#20908C\",\"#20918C\",\"#1F928C\",\"#1F938B\",\"#1F948B\",\"#1F958B\",\"#1F968B\",\"#1E978A\",\"#1E988A\",\"#1E998A\",\"#1E998A\",\"#1E9A89\",\"#1E9B89\",\"#1E9C89\",\"#1E9D88\",\"#1E9E88\",\"#1E9F88\",\"#1EA087\",\"#1FA187\",\"#1FA286\",\"#1FA386\",\"#20A485\",\"#20A585\",\"#21A685\",\"#21A784\",\"#22A784\",\"#23A883\",\"#23A982\",\"#24AA82\",\"#25AB81\",\"#26AC81\",\"#27AD80\",\"#28AE7F\",\"#29AF7F\",\"#2AB07E\",\"#2BB17D\",\"#2CB17D\",\"#2EB27C\",\"#2FB37B\",\"#30B47A\",\"#32B57A\",\"#33B679\",\"#35B778\",\"#36B877\",\"#38B976\",\"#39B976\",\"#3BBA75\",\"#3DBB74\",\"#3EBC73\",\"#40BD72\",\"#42BE71\",\"#44BE70\",\"#45BF6F\",\"#47C06E\",\"#49C16D\",\"#4BC26C\",\"#4DC26B\",\"#4FC369\",\"#51C468\",\"#53C567\",\"#55C666\",\"#57C665\",\"#59C764\",\"#5BC862\",\"#5EC961\",\"#60C960\",\"#62CA5F\",\"#64CB5D\",\"#67CC5C\",\"#69CC5B\",\"#6BCD59\",\"#6DCE58\",\"#70CE56\",\"#72CF55\",\"#74D054\",\"#77D052\",\"#79D151\",\"#7CD24F\",\"#7ED24E\",\"#81D34C\",\"#83D34B\",\"#86D449\",\"#88D547\",\"#8BD546\",\"#8DD644\",\"#90D643\",\"#92D741\",\"#95D73F\",\"#97D83E\",\"#9AD83C\",\"#9DD93A\",\"#9FD938\",\"#A2DA37\",\"#A5DA35\",\"#A7DB33\",\"#AADB32\",\"#ADDC30\",\"#AFDC2E\",\"#B2DD2C\",\"#B5DD2B\",\"#B7DD29\",\"#BADE27\",\"#BDDE26\",\"#BFDF24\",\"#C2DF22\",\"#C5DF21\",\"#C7E01F\",\"#CAE01E\",\"#CDE01D\",\"#CFE11C\",\"#D2E11B\",\"#D4E11A\",\"#D7E219\",\"#DAE218\",\"#DCE218\",\"#DFE318\",\"#E1E318\",\"#E4E318\",\"#E7E419\",\"#E9E419\",\"#ECE41A\",\"#EEE51B\",\"#F1E51C\",\"#F3E51E\",\"#F6E61F\",\"#F8E621\",\"#FAE622\",\"#FDE724\"]},\"id\":\"1133\",\"type\":\"LinearColorMapper\"},{\"attributes\":{\"source\":{\"id\":\"1134\",\"type\":\"ColumnDataSource\"}},\"id\":\"1140\",\"type\":\"CDSView\"},{\"attributes\":{},\"id\":\"1155\",\"type\":\"Selection\"},{\"attributes\":{\"fill_alpha\":{\"value\":0.1},\"fill_color\":{\"value\":\"#1f77b4\"},\"line_alpha\":{\"value\":0.1},\"line_color\":{\"value\":\"#1f77b4\"},\"q\":{\"field\":\"q\"},\"r\":{\"field\":\"r\"},\"size\":0.5},\"id\":\"1137\",\"type\":\"HexTile\"},{\"attributes\":{\"fill_color\":{\"field\":\"c\",\"transform\":{\"id\":\"1133\",\"type\":\"LinearColorMapper\"}},\"q\":{\"field\":\"q\"},\"r\":{\"field\":\"r\"},\"size\":0.5},\"id\":\"1136\",\"type\":\"HexTile\"},{\"attributes\":{\"bottom_units\":\"screen\",\"fill_alpha\":{\"value\":0.5},\"fill_color\":{\"value\":\"lightgrey\"},\"left_units\":\"screen\",\"level\":\"overlay\",\"line_alpha\":{\"value\":1.0},\"line_color\":{\"value\":\"black\"},\"line_dash\":[4,4],\"line_width\":{\"value\":2},\"render_mode\":\"css\",\"right_units\":\"screen\",\"top_units\":\"screen\"},\"id\":\"1154\",\"type\":\"BoxAnnotation\"},{\"attributes\":{},\"id\":\"1106\",\"type\":\"LinearScale\"},{\"attributes\":{},\"id\":\"1152\",\"type\":\"BasicTickFormatter\"},{\"attributes\":{\"callback\":null},\"id\":\"1102\",\"type\":\"DataRange1d\"},{\"attributes\":{\"callback\":null},\"id\":\"1104\",\"type\":\"DataRange1d\"},{\"attributes\":{},\"id\":\"1123\",\"type\":\"SaveTool\"},{\"attributes\":{\"ticker\":{\"id\":\"1111\",\"type\":\"BasicTicker\"}},\"id\":\"1114\",\"type\":\"Grid\"},{\"attributes\":{},\"id\":\"1111\",\"type\":\"BasicTicker\"},{\"attributes\":{},\"id\":\"1120\",\"type\":\"PanTool\"},{\"attributes\":{\"callback\":null,\"data\":{\"c\":[7,20,9,19,7,14,5,6,2,4,2,5,5,2,3,2,3,4,1,2,2,1,1,2],\"q\":[0,1,1,2,2,3,3,4,4,5,5,6,6,7,7,8,9,9,10,10,11,12,14,19],\"r\":[0,-1,0,-1,0,-1,0,-1,0,-1,0,-1,0,-1,0,-1,-1,0,-1,0,-1,0,-1,-1]},\"selected\":{\"id\":\"1155\",\"type\":\"Selection\"},\"selection_policy\":{\"id\":\"1156\",\"type\":\"UnionRenderers\"}},\"id\":\"1134\",\"type\":\"ColumnDataSource\"},{\"attributes\":{\"data_source\":{\"id\":\"1134\",\"type\":\"ColumnDataSource\"},\"glyph\":{\"id\":\"1136\",\"type\":\"HexTile\"},\"hover_glyph\":{\"id\":\"1138\",\"type\":\"HexTile\"},\"muted_glyph\":null,\"nonselection_glyph\":{\"id\":\"1137\",\"type\":\"HexTile\"},\"selection_glyph\":null,\"view\":{\"id\":\"1140\",\"type\":\"CDSView\"}},\"id\":\"1139\",\"type\":\"GlyphRenderer\"},{\"attributes\":{},\"id\":\"1124\",\"type\":\"ResetTool\"},{\"attributes\":{\"axis_label\":\"time\",\"formatter\":{\"id\":\"1150\",\"type\":\"BasicTickFormatter\"},\"ticker\":{\"id\":\"1111\",\"type\":\"BasicTicker\"}},\"id\":\"1110\",\"type\":\"LinearAxis\"},{\"attributes\":{},\"id\":\"1150\",\"type\":\"BasicTickFormatter\"}],\"root_ids\":[\"1099\"]},\"title\":\"Bokeh Application\",\"version\":\"1.2.0\"}};\n",
       "  var render_items = [{\"docid\":\"da47f29b-600b-46c0-91ee-2cdbe249f14d\",\"roots\":{\"1099\":\"7e2e3a4d-0af4-424a-9168-cbeaf0bdbfb5\"}}];\n",
       "  root.Bokeh.embed.embed_items_notebook(docs_json, render_items);\n",
       "\n",
       "  }\n",
       "  if (root.Bokeh !== undefined) {\n",
       "    embed_document(root);\n",
       "  } else {\n",
       "    var attempts = 0;\n",
       "    var timer = setInterval(function(root) {\n",
       "      if (root.Bokeh !== undefined) {\n",
       "        embed_document(root);\n",
       "        clearInterval(timer);\n",
       "      }\n",
       "      attempts++;\n",
       "      if (attempts > 100) {\n",
       "        console.log(\"Bokeh: ERROR: Unable to run BokehJS code because BokehJS library is missing\");\n",
       "        clearInterval(timer);\n",
       "      }\n",
       "    }, 10, root)\n",
       "  }\n",
       "})(window);"
      ],
      "application/vnd.bokehjs_exec.v0+json": ""
     },
     "metadata": {
      "application/vnd.bokehjs_exec.v0+json": {
       "id": "1099"
      }
     },
     "output_type": "display_data"
    }
   ],
   "source": [
    "show(p2)"
   ]
  },
  {
   "cell_type": "code",
   "execution_count": 42,
   "metadata": {},
   "outputs": [],
   "source": [
    "radii = np.random.random(size=SAMPLES) * 1.5\n",
    "colors = [\n",
    "    \"#%02x%02x%02x\" % (int(r), int(g), 150) for r, g in zip(50+2*x, 10+2*y)\n",
    "]"
   ]
  },
  {
   "cell_type": "code",
   "execution_count": 43,
   "metadata": {},
   "outputs": [
    {
     "data": {
      "text/html": [
       "<div style=\"display: table;\"><div style=\"display: table-row;\"><div style=\"display: table-cell;\"><b title=\"bokeh.models.renderers.GlyphRenderer\">GlyphRenderer</b>(</div><div style=\"display: table-cell;\">id&nbsp;=&nbsp;'1242', <span id=\"1245\" style=\"cursor: pointer;\">&hellip;)</span></div></div><div class=\"1244\" style=\"display: none;\"><div style=\"display: table-cell;\"></div><div style=\"display: table-cell;\">data_source&nbsp;=&nbsp;ColumnDataSource(id='1239', ...),</div></div><div class=\"1244\" style=\"display: none;\"><div style=\"display: table-cell;\"></div><div style=\"display: table-cell;\">glyph&nbsp;=&nbsp;Circle(id='1240', ...),</div></div><div class=\"1244\" style=\"display: none;\"><div style=\"display: table-cell;\"></div><div style=\"display: table-cell;\">hover_glyph&nbsp;=&nbsp;None,</div></div><div class=\"1244\" style=\"display: none;\"><div style=\"display: table-cell;\"></div><div style=\"display: table-cell;\">js_event_callbacks&nbsp;=&nbsp;{},</div></div><div class=\"1244\" style=\"display: none;\"><div style=\"display: table-cell;\"></div><div style=\"display: table-cell;\">js_property_callbacks&nbsp;=&nbsp;{},</div></div><div class=\"1244\" style=\"display: none;\"><div style=\"display: table-cell;\"></div><div style=\"display: table-cell;\">level&nbsp;=&nbsp;'glyph',</div></div><div class=\"1244\" style=\"display: none;\"><div style=\"display: table-cell;\"></div><div style=\"display: table-cell;\">muted&nbsp;=&nbsp;False,</div></div><div class=\"1244\" style=\"display: none;\"><div style=\"display: table-cell;\"></div><div style=\"display: table-cell;\">muted_glyph&nbsp;=&nbsp;None,</div></div><div class=\"1244\" style=\"display: none;\"><div style=\"display: table-cell;\"></div><div style=\"display: table-cell;\">name&nbsp;=&nbsp;None,</div></div><div class=\"1244\" style=\"display: none;\"><div style=\"display: table-cell;\"></div><div style=\"display: table-cell;\">nonselection_glyph&nbsp;=&nbsp;Circle(id='1241', ...),</div></div><div class=\"1244\" style=\"display: none;\"><div style=\"display: table-cell;\"></div><div style=\"display: table-cell;\">selection_glyph&nbsp;=&nbsp;None,</div></div><div class=\"1244\" style=\"display: none;\"><div style=\"display: table-cell;\"></div><div style=\"display: table-cell;\">subscribed_events&nbsp;=&nbsp;[],</div></div><div class=\"1244\" style=\"display: none;\"><div style=\"display: table-cell;\"></div><div style=\"display: table-cell;\">tags&nbsp;=&nbsp;[],</div></div><div class=\"1244\" style=\"display: none;\"><div style=\"display: table-cell;\"></div><div style=\"display: table-cell;\">view&nbsp;=&nbsp;CDSView(id='1243', ...),</div></div><div class=\"1244\" style=\"display: none;\"><div style=\"display: table-cell;\"></div><div style=\"display: table-cell;\">visible&nbsp;=&nbsp;True,</div></div><div class=\"1244\" style=\"display: none;\"><div style=\"display: table-cell;\"></div><div style=\"display: table-cell;\">x_range_name&nbsp;=&nbsp;'default',</div></div><div class=\"1244\" style=\"display: none;\"><div style=\"display: table-cell;\"></div><div style=\"display: table-cell;\">y_range_name&nbsp;=&nbsp;'default')</div></div></div>\n",
       "<script>\n",
       "(function() {\n",
       "  var expanded = false;\n",
       "  var ellipsis = document.getElementById(\"1245\");\n",
       "  ellipsis.addEventListener(\"click\", function() {\n",
       "    var rows = document.getElementsByClassName(\"1244\");\n",
       "    for (var i = 0; i < rows.length; i++) {\n",
       "      var el = rows[i];\n",
       "      el.style.display = expanded ? \"none\" : \"table-row\";\n",
       "    }\n",
       "    ellipsis.innerHTML = expanded ? \"&hellip;)\" : \"&lsaquo;&lsaquo;&lsaquo;\";\n",
       "    expanded = !expanded;\n",
       "  });\n",
       "})();\n",
       "</script>\n"
      ],
      "text/plain": [
       "GlyphRenderer(id='1242', ...)"
      ]
     },
     "execution_count": 43,
     "metadata": {},
     "output_type": "execute_result"
    }
   ],
   "source": [
    "p3 = figure(title=\"scatter\", x_axis_label='time', y_axis_label='volume')\n",
    "\n",
    "p3.scatter(x, y, radius=radii,\n",
    "          fill_color=colors, fill_alpha=0.6,\n",
    "          line_color=None)"
   ]
  },
  {
   "cell_type": "code",
   "execution_count": 44,
   "metadata": {},
   "outputs": [
    {
     "data": {
      "text/html": [
       "\n",
       "\n",
       "\n",
       "\n",
       "\n",
       "\n",
       "  <div class=\"bk-root\" id=\"214bf779-0be0-4409-99b0-b82608d66b40\" data-root-id=\"1205\"></div>\n"
      ]
     },
     "metadata": {},
     "output_type": "display_data"
    },
    {
     "data": {
      "application/javascript": [
       "(function(root) {\n",
       "  function embed_document(root) {\n",
       "    \n",
       "  var docs_json = {\"aaae57b3-ce17-4b2a-825c-9e2fbb4d9489\":{\"roots\":{\"references\":[{\"attributes\":{\"below\":[{\"id\":\"1216\",\"type\":\"LinearAxis\"}],\"center\":[{\"id\":\"1220\",\"type\":\"Grid\"},{\"id\":\"1225\",\"type\":\"Grid\"}],\"left\":[{\"id\":\"1221\",\"type\":\"LinearAxis\"}],\"renderers\":[{\"id\":\"1242\",\"type\":\"GlyphRenderer\"}],\"title\":{\"id\":\"1206\",\"type\":\"Title\"},\"toolbar\":{\"id\":\"1232\",\"type\":\"Toolbar\"},\"x_range\":{\"id\":\"1208\",\"type\":\"DataRange1d\"},\"x_scale\":{\"id\":\"1212\",\"type\":\"LinearScale\"},\"y_range\":{\"id\":\"1210\",\"type\":\"DataRange1d\"},\"y_scale\":{\"id\":\"1214\",\"type\":\"LinearScale\"}},\"id\":\"1205\",\"subtype\":\"Figure\",\"type\":\"Plot\"},{\"attributes\":{\"overlay\":{\"id\":\"1267\",\"type\":\"BoxAnnotation\"}},\"id\":\"1228\",\"type\":\"BoxZoomTool\"},{\"attributes\":{},\"id\":\"1263\",\"type\":\"BasicTickFormatter\"},{\"attributes\":{},\"id\":\"1229\",\"type\":\"SaveTool\"},{\"attributes\":{},\"id\":\"1230\",\"type\":\"ResetTool\"},{\"attributes\":{\"text\":\"scatter\"},\"id\":\"1206\",\"type\":\"Title\"},{\"attributes\":{\"callback\":null,\"data\":{\"fill_color\":[\"#340a96\",\"#340a96\",\"#380a96\",\"#350a96\",\"#330a96\",\"#3c0a96\",\"#340a96\",\"#390a96\",\"#360a96\",\"#350a96\",\"#360a96\",\"#3b0a96\",\"#330a96\",\"#3c0a96\",\"#320a96\",\"#410a96\",\"#460a96\",\"#3d0a96\",\"#390a96\",\"#3c0a96\",\"#320a96\",\"#350a96\",\"#320a96\",\"#350a96\",\"#360a96\",\"#3d0a96\",\"#420a96\",\"#340a96\",\"#370a96\",\"#330a96\",\"#320a96\",\"#370a96\",\"#340a96\",\"#320a96\",\"#340a96\",\"#360a96\",\"#320a96\",\"#3a0a96\",\"#3d0a96\",\"#400a96\",\"#360a96\",\"#3d0a96\",\"#420a96\",\"#340a96\",\"#410a96\",\"#320a96\",\"#390a96\",\"#320a96\",\"#410a96\",\"#3b0a96\",\"#3c0a96\",\"#420a96\",\"#330a96\",\"#390a96\",\"#340a96\",\"#410a96\",\"#3b0a96\",\"#3b0a96\",\"#350a96\",\"#370a96\",\"#440a96\",\"#430a96\",\"#340a96\",\"#330a96\",\"#330b96\",\"#330b96\",\"#380b96\",\"#340b96\",\"#370b96\",\"#3c0b96\",\"#360b96\",\"#340b96\",\"#330b96\",\"#340b96\",\"#340b96\",\"#340b96\",\"#320b96\",\"#360b96\",\"#320b96\",\"#350b96\",\"#360b96\",\"#320b96\",\"#350b96\",\"#340b96\",\"#360b96\",\"#330b96\",\"#370b96\",\"#390b96\",\"#340b96\",\"#320b96\",\"#330b96\",\"#510b96\",\"#3f0b96\",\"#350b96\",\"#3f0b96\",\"#510b96\",\"#340b96\",\"#330b96\",\"#340b96\",\"#360b96\",\"#340b96\",\"#410b96\",\"#360b96\",\"#3a0b96\",\"#3d0b96\",\"#350b96\",\"#360b96\",\"#340b96\",\"#330b96\",\"#360b96\",\"#370b96\",\"#330b96\",\"#3b0b96\",\"#320b96\",\"#380b96\",\"#3f0b96\",\"#360b96\",\"#480b96\",\"#330b96\",\"#350b96\",\"#350b96\",\"#370b96\",\"#320b96\",\"#320b96\",\"#320b96\",\"#320b96\",\"#320b96\",\"#330c96\"],\"radius\":{\"__ndarray__\":\"WPlipWb48z/Ai6j+NjKWPwNBPhnlx9c/fX/9rlwK0T+j1uZQvuzYP/wBSQtVs+M/m3OrDt3r9j8msfEoTAPcP4UEj2u/YtE/UlkZv/oY7T/EjzvdyH7oP0mASs3CNPQ//KEEdyTm4z8DYTnaJpz3P8LKo+NYJeg/exJTy9Vz8D/0AHR85bbKP5Z0PsFbxOo/7lJz3MmR4T9POUQ0Ii3WP1xSAqDYWbw/iW1atbbN8j+sNsVE/23jP/SC/burjeY/2ndRq7vDxj8vkHAq4VPgP3Tn4Ry60PY/+mTV5auE5j82EGn2LvT0P0Rk0dL098E/ag8CPAQo6D/mFziAPrfyP1BPhbfsCvE/d5MKHhb09z++d01gM2PlP61bYi4YLPI/2E/L3fmAtD8MKWoyYF7nP9f5NlVRWOE/ClFIHaYJxz81jeeffNj0P4DidLGWFvE/wYF0x48E9j++KjM6S2b1PwBYUt/b8qA/wfXrH1ub4D9rJvQ8ldXdP0ahY0bA/fE/S/sP3nhv9j8c5iiaPT29P+Y8nZ+ca+w/wCDysQ/nlz/bawy9Y3HXP4ZeozN1VOQ/yuwknsLM9j+NRqQ469T0P7fK845cI9s/mO7vPvtW5j9rVFk8GTXUP6pXkztCFNs/dyX1nZ+y5z/48fF0LCejPwMX0Ri1HvA/oDRCYnI5hz+01hmztpG9P1NSP1ILB9E/Qw4lANH35z+ZgCBGOoLxP1Q20HAJHvM/hwnDW5H44T+C7kChVVb3Px9Y64INats/xrwFdXiyxj/hihb1uRLxP6ibnpX0DME/dLp3T6rZ6T/szM8yTXfrP870+5DLmtk/FfanR39C7D8Q+gES37nxP5zpt4mR6eY/mLBlmrD92j/Iw7qdMv3CP7l7k1DxHe0/fN7cPBFbzD+8qDKi1FPiP34z44b42fY/C3rjkymn7T8StK/UHOjhP8b8wwNmeeY/gv0cQsImxz8BiKxbsR/2P4ImQdvLdPE/SSzQSCzz9D98Xg/pfyzXPyoA/pBLL+k/DFr/tr/z4z/wlYEGZq23PynKMgwoNPI/INV77A9O7D91Nt/rW8boPxO0MixJIuQ/fluguIz42j+gimyiG8b0P3UbsHAG3dk/aprNDdPV3z+VnOiBcUn3P4rrrgReCto/bzoribUX9j+TZfxtoqLbP/R/dm11CrY/T8ai+9408T80OxJVkC/2P5QRb3KZwb0/1DfxAtRC8z9OPuMKO0HhP1RKV2r+JNA/rrGRmrrS8z8mOXenE+bmP+IxqTafVPI/kVUskgA+0z/Y2Z4qL8eoP4WdCOsXEfM/PkaDzJI09T+YAADeykHlPxBeC+cPKrQ/3mE0kWMR3D9Y3UiPhGzwPw==\",\"dtype\":\"float64\",\"shape\":[128]},\"x\":{\"__ndarray__\":\"ZIWLdQ528D+9r8jF0nv0P5cguiEFeghAjSlfk17V/T8+ti04+yvuP9S6ctRJehVAsYeSr1HN9D8cAV/0/DwNQG5Rno0vcgJAQmfC2J2V/D8pB+7EcnwBQJJaJNkwUxNAnV87Iafy4j/NvYJVl+sVQAkikvRHCq0/Kjl7dBMYH0BmQCuocUwkQNvSuB+ZORdAv6dlWtJlD0Ap8sqwna8VQFkjld2Zeto/3D4noYRL/T+O7pbFdOuzP2SsAMByNPg/UXmcQtFxAkAIsLDNAQgXQDUR4PlxnCBA8rLGv24t9z+Uoh/mOfkEQGy2mm11EuM/lKPKxyPuzT/OSBUSt+IGQC83cz5+OvA/JRmrNz01dT/mhhs5hKzwP9koM8nHXABAihPqFJXZ0j9ohelWm24QQNfXj+gkshZAlj6JLbvWHUBgqtz8gHgBQDlFwgaKURdATnNMgiHjIEBY7uy1xQfyP8SFK3rErx5A7frm44lLyD+WM2+d2lEPQDlRMFHYDNM/vin5sB72H0BJxSkC/tcTQDb2O36bVBVAsohrU4EsIEAK940jh5TsP6Xf2W/3Ug5AZi3ixBeq9D8zSK0+cDYfQPHggHKtURJAitNzHl3WEkAouJXozEz5P79WrxuxEwZALwJsNIdbIkB2hm29cZ0hQAk/FEvpfvM/h2hDvQG64z+FFoHCbIvlP4AQEY4Hbes/+gGrOpjtCEABlega8sfxP73q1RbVewZAOqUwTRxnFEBAeuv3h6IAQGQtZJlgkfU/gwMYHa/q6D++9XxESCf3P569VG67X/U/bYrvY/jj8D8nfpXHZ0ChP2BuH8V2NABA+S6zDHfs2z/5BP1jHMv8P/ibibr1WgNARgsJJzXjzz+1/Jr+t2j+PypFiF0k6/Y/4j8LpQOAA0C5pq0gaT3tP/51NaJ32wZA8cfKEkq8DEBdBccNcBXwP/FgP3whcNY/+LHyIa7l4T+my0g3FdUvQO//7DgdzxtAvuOQf1lD+T++VznGZ3caQB6UvJk20S9A1+dBKJYN9T+B2evc6kHmP8Zct4ovYfY/nbhBRlCdAkBas33G59/2P7KpedZDKR9AxujGOLS4A0B60ANGGyQQQC/d5n29CBdAvBAH1ehz/z/ZAzb3t5kCQI/ydSx0ivM/ZOeMgbmv4D/MrqcPguUDQHLBMbd83wdAXhITD88W7j9riFVYY+ATQOGFYt/pINw/HxA6xwp6CUAGqtL3XhcbQDglA0HyqwJABYiAnBKfJkBDOJIMXM3pP6ylnTGSzvg/vhMsaO17+T98iCcEusIEQMPBXv3rcdo/nrO7olp5vj8jNgCu9arLPyCga9LylNU/nl3rWOTV3j8Q6wHed9DlPw==\",\"dtype\":\"float64\",\"shape\":[128]},\"y\":{\"__ndarray__\":\"AAAAAAAAAAAIBAKBQCCAPwgEAoFAIJA/DAaDwWAwmD8IBAKBQCCgPwqFQqFQKKQ/DAaDwWAwqD8Oh8PhcDisPwgEAoFAILA/iUQikUgksj8KhUKhUCi0P4vFYrFYLLY/DAaDwWAwuD+NRqPRaDS6Pw6Hw+FwOLw/j8fj8Xg8vj8IBAKBQCDAP0gkEolEIsE/iUQikUgkwj/KZDKZTCbDPwqFQqFQKMQ/SqVSqVQqxT+LxWKxWCzGP8zlcrlcLsc/DAaDwWAwyD9MJpPJZDLJP41Go9FoNMo/zmaz2Ww2yz8Oh8PhcDjMP06n0+l0Os0/j8fj8Xg8zj/Q5/P5fD7PPwgEAoFAINA/KBQKhUKh0D9IJBKJRCLRP2k0Go1Go9E/iUQikUgk0j+pVCqVSqXSP8pkMplMJtM/6nQ6nU6n0z8KhUKhUCjUPyqVSqVSqdQ/SqVSqVQq1T9rtVqtVqvVP4vFYrFYLNY/q9VqtVqt1j/M5XK5XC7XP+z1er1er9c/DAaDwWAw2D8sFovFYrHYP0wmk8lkMtk/bTabzWaz2T+NRqPRaDTaP61Wq9Vqtdo/zmaz2Ww22z/udrvdbrfbPw6Hw+FwONw/LpfL5XK53D9Op9PpdDrdP2+32+12u90/j8fj8Xg83j+v1+v1er3eP9Dn8/l8Pt8/8Pf7/X6/3z8IBAKBQCDgPxgMBoPBYOA/KBQKhUKh4D84HA6Hw+HgP0gkEolEIuE/WSwWi8Vi4T9pNBqNRqPhP3k8Ho/H4+E/iUQikUgk4j+ZTCaTyWTiP6lUKpVKpeI/uVwul8vl4j/KZDKZTCbjP9psNpvNZuM/6nQ6nU6n4z/6fD6fz+fjPwqFQqFQKOQ/Go1Go9Fo5D8qlUqlUqnkPzqdTqfT6eQ/SqVSqVQq5T9brVar1WrlP2u1Wq1Wq+U/e71er9fr5T+LxWKxWCzmP5vNZrPZbOY/q9VqtVqt5j+73W632+3mP8zlcrlcLuc/3O12u91u5z/s9Xq9Xq/nP/z9fr/f7+c/DAaDwWAw6D8cDofD4XDoPywWi8Viseg/PB6Px+Px6D9MJpPJZDLpP10ul8vlcuk/bTabzWaz6T99Pp/P5/PpP41Go9FoNOo/nU6n0+l06j+tVqvVarXqP71er9fr9eo/zmaz2Ww26z/ebrfb7XbrP+52u91ut+s//n6/3+/36z8Oh8PhcDjsPx6Px+PxeOw/LpfL5XK57D8+n8/n8/nsP06n0+l0Ou0/X6/X6/V67T9vt9vtdrvtP3+/3+/3++0/j8fj8Xg87j+fz+fz+XzuP6/X6/V6ve4/v9/v9/v97j/Q5/P5fD7vP+Dv9/v9fu8/8Pf7/X6/7z8AAAAAAADwPw==\",\"dtype\":\"float64\",\"shape\":[128]}},\"selected\":{\"id\":\"1268\",\"type\":\"Selection\"},\"selection_policy\":{\"id\":\"1269\",\"type\":\"UnionRenderers\"}},\"id\":\"1239\",\"type\":\"ColumnDataSource\"},{\"attributes\":{},\"id\":\"1231\",\"type\":\"HelpTool\"},{\"attributes\":{\"callback\":null},\"id\":\"1208\",\"type\":\"DataRange1d\"},{\"attributes\":{\"bottom_units\":\"screen\",\"fill_alpha\":{\"value\":0.5},\"fill_color\":{\"value\":\"lightgrey\"},\"left_units\":\"screen\",\"level\":\"overlay\",\"line_alpha\":{\"value\":1.0},\"line_color\":{\"value\":\"black\"},\"line_dash\":[4,4],\"line_width\":{\"value\":2},\"render_mode\":\"css\",\"right_units\":\"screen\",\"top_units\":\"screen\"},\"id\":\"1267\",\"type\":\"BoxAnnotation\"},{\"attributes\":{\"active_drag\":\"auto\",\"active_inspect\":\"auto\",\"active_multi\":null,\"active_scroll\":\"auto\",\"active_tap\":\"auto\",\"tools\":[{\"id\":\"1226\",\"type\":\"PanTool\"},{\"id\":\"1227\",\"type\":\"WheelZoomTool\"},{\"id\":\"1228\",\"type\":\"BoxZoomTool\"},{\"id\":\"1229\",\"type\":\"SaveTool\"},{\"id\":\"1230\",\"type\":\"ResetTool\"},{\"id\":\"1231\",\"type\":\"HelpTool\"}]},\"id\":\"1232\",\"type\":\"Toolbar\"},{\"attributes\":{\"callback\":null},\"id\":\"1210\",\"type\":\"DataRange1d\"},{\"attributes\":{},\"id\":\"1212\",\"type\":\"LinearScale\"},{\"attributes\":{\"source\":{\"id\":\"1239\",\"type\":\"ColumnDataSource\"}},\"id\":\"1243\",\"type\":\"CDSView\"},{\"attributes\":{},\"id\":\"1214\",\"type\":\"LinearScale\"},{\"attributes\":{\"axis_label\":\"time\",\"formatter\":{\"id\":\"1263\",\"type\":\"BasicTickFormatter\"},\"ticker\":{\"id\":\"1217\",\"type\":\"BasicTicker\"}},\"id\":\"1216\",\"type\":\"LinearAxis\"},{\"attributes\":{},\"id\":\"1269\",\"type\":\"UnionRenderers\"},{\"attributes\":{},\"id\":\"1217\",\"type\":\"BasicTicker\"},{\"attributes\":{\"ticker\":{\"id\":\"1217\",\"type\":\"BasicTicker\"}},\"id\":\"1220\",\"type\":\"Grid\"},{\"attributes\":{},\"id\":\"1265\",\"type\":\"BasicTickFormatter\"},{\"attributes\":{\"axis_label\":\"volume\",\"formatter\":{\"id\":\"1265\",\"type\":\"BasicTickFormatter\"},\"ticker\":{\"id\":\"1222\",\"type\":\"BasicTicker\"}},\"id\":\"1221\",\"type\":\"LinearAxis\"},{\"attributes\":{},\"id\":\"1222\",\"type\":\"BasicTicker\"},{\"attributes\":{},\"id\":\"1268\",\"type\":\"Selection\"},{\"attributes\":{\"dimension\":1,\"ticker\":{\"id\":\"1222\",\"type\":\"BasicTicker\"}},\"id\":\"1225\",\"type\":\"Grid\"},{\"attributes\":{\"fill_alpha\":{\"value\":0.1},\"fill_color\":{\"value\":\"#1f77b4\"},\"line_alpha\":{\"value\":0.1},\"line_color\":{\"value\":\"#1f77b4\"},\"radius\":{\"field\":\"radius\",\"units\":\"data\"},\"x\":{\"field\":\"x\"},\"y\":{\"field\":\"y\"}},\"id\":\"1241\",\"type\":\"Circle\"},{\"attributes\":{\"fill_alpha\":{\"value\":0.6},\"fill_color\":{\"field\":\"fill_color\"},\"line_color\":{\"value\":null},\"radius\":{\"field\":\"radius\",\"units\":\"data\"},\"x\":{\"field\":\"x\"},\"y\":{\"field\":\"y\"}},\"id\":\"1240\",\"type\":\"Circle\"},{\"attributes\":{\"data_source\":{\"id\":\"1239\",\"type\":\"ColumnDataSource\"},\"glyph\":{\"id\":\"1240\",\"type\":\"Circle\"},\"hover_glyph\":null,\"muted_glyph\":null,\"nonselection_glyph\":{\"id\":\"1241\",\"type\":\"Circle\"},\"selection_glyph\":null,\"view\":{\"id\":\"1243\",\"type\":\"CDSView\"}},\"id\":\"1242\",\"type\":\"GlyphRenderer\"},{\"attributes\":{},\"id\":\"1226\",\"type\":\"PanTool\"},{\"attributes\":{},\"id\":\"1227\",\"type\":\"WheelZoomTool\"}],\"root_ids\":[\"1205\"]},\"title\":\"Bokeh Application\",\"version\":\"1.2.0\"}};\n",
       "  var render_items = [{\"docid\":\"aaae57b3-ce17-4b2a-825c-9e2fbb4d9489\",\"roots\":{\"1205\":\"214bf779-0be0-4409-99b0-b82608d66b40\"}}];\n",
       "  root.Bokeh.embed.embed_items_notebook(docs_json, render_items);\n",
       "\n",
       "  }\n",
       "  if (root.Bokeh !== undefined) {\n",
       "    embed_document(root);\n",
       "  } else {\n",
       "    var attempts = 0;\n",
       "    var timer = setInterval(function(root) {\n",
       "      if (root.Bokeh !== undefined) {\n",
       "        embed_document(root);\n",
       "        clearInterval(timer);\n",
       "      }\n",
       "      attempts++;\n",
       "      if (attempts > 100) {\n",
       "        console.log(\"Bokeh: ERROR: Unable to run BokehJS code because BokehJS library is missing\");\n",
       "        clearInterval(timer);\n",
       "      }\n",
       "    }, 10, root)\n",
       "  }\n",
       "})(window);"
      ],
      "application/vnd.bokehjs_exec.v0+json": ""
     },
     "metadata": {
      "application/vnd.bokehjs_exec.v0+json": {
       "id": "1205"
      }
     },
     "output_type": "display_data"
    }
   ],
   "source": [
    "show(p3)"
   ]
  },
  {
   "cell_type": "code",
   "execution_count": 52,
   "metadata": {},
   "outputs": [],
   "source": [
    "p4 = figure(title=\"vbar\", x_axis_label='time', y_axis_label='volume')"
   ]
  },
  {
   "cell_type": "code",
   "execution_count": 53,
   "metadata": {},
   "outputs": [
    {
     "data": {
      "text/html": [
       "<div style=\"display: table;\"><div style=\"display: table-row;\"><div style=\"display: table-cell;\"><b title=\"bokeh.models.renderers.GlyphRenderer\">GlyphRenderer</b>(</div><div style=\"display: table-cell;\">id&nbsp;=&nbsp;'1658', <span id=\"1661\" style=\"cursor: pointer;\">&hellip;)</span></div></div><div class=\"1660\" style=\"display: none;\"><div style=\"display: table-cell;\"></div><div style=\"display: table-cell;\">data_source&nbsp;=&nbsp;ColumnDataSource(id='1655', ...),</div></div><div class=\"1660\" style=\"display: none;\"><div style=\"display: table-cell;\"></div><div style=\"display: table-cell;\">glyph&nbsp;=&nbsp;VBar(id='1656', ...),</div></div><div class=\"1660\" style=\"display: none;\"><div style=\"display: table-cell;\"></div><div style=\"display: table-cell;\">hover_glyph&nbsp;=&nbsp;None,</div></div><div class=\"1660\" style=\"display: none;\"><div style=\"display: table-cell;\"></div><div style=\"display: table-cell;\">js_event_callbacks&nbsp;=&nbsp;{},</div></div><div class=\"1660\" style=\"display: none;\"><div style=\"display: table-cell;\"></div><div style=\"display: table-cell;\">js_property_callbacks&nbsp;=&nbsp;{},</div></div><div class=\"1660\" style=\"display: none;\"><div style=\"display: table-cell;\"></div><div style=\"display: table-cell;\">level&nbsp;=&nbsp;'glyph',</div></div><div class=\"1660\" style=\"display: none;\"><div style=\"display: table-cell;\"></div><div style=\"display: table-cell;\">muted&nbsp;=&nbsp;False,</div></div><div class=\"1660\" style=\"display: none;\"><div style=\"display: table-cell;\"></div><div style=\"display: table-cell;\">muted_glyph&nbsp;=&nbsp;None,</div></div><div class=\"1660\" style=\"display: none;\"><div style=\"display: table-cell;\"></div><div style=\"display: table-cell;\">name&nbsp;=&nbsp;None,</div></div><div class=\"1660\" style=\"display: none;\"><div style=\"display: table-cell;\"></div><div style=\"display: table-cell;\">nonselection_glyph&nbsp;=&nbsp;VBar(id='1657', ...),</div></div><div class=\"1660\" style=\"display: none;\"><div style=\"display: table-cell;\"></div><div style=\"display: table-cell;\">selection_glyph&nbsp;=&nbsp;None,</div></div><div class=\"1660\" style=\"display: none;\"><div style=\"display: table-cell;\"></div><div style=\"display: table-cell;\">subscribed_events&nbsp;=&nbsp;[],</div></div><div class=\"1660\" style=\"display: none;\"><div style=\"display: table-cell;\"></div><div style=\"display: table-cell;\">tags&nbsp;=&nbsp;[],</div></div><div class=\"1660\" style=\"display: none;\"><div style=\"display: table-cell;\"></div><div style=\"display: table-cell;\">view&nbsp;=&nbsp;CDSView(id='1659', ...),</div></div><div class=\"1660\" style=\"display: none;\"><div style=\"display: table-cell;\"></div><div style=\"display: table-cell;\">visible&nbsp;=&nbsp;True,</div></div><div class=\"1660\" style=\"display: none;\"><div style=\"display: table-cell;\"></div><div style=\"display: table-cell;\">x_range_name&nbsp;=&nbsp;'default',</div></div><div class=\"1660\" style=\"display: none;\"><div style=\"display: table-cell;\"></div><div style=\"display: table-cell;\">y_range_name&nbsp;=&nbsp;'default')</div></div></div>\n",
       "<script>\n",
       "(function() {\n",
       "  var expanded = false;\n",
       "  var ellipsis = document.getElementById(\"1661\");\n",
       "  ellipsis.addEventListener(\"click\", function() {\n",
       "    var rows = document.getElementsByClassName(\"1660\");\n",
       "    for (var i = 0; i < rows.length; i++) {\n",
       "      var el = rows[i];\n",
       "      el.style.display = expanded ? \"none\" : \"table-row\";\n",
       "    }\n",
       "    ellipsis.innerHTML = expanded ? \"&hellip;)\" : \"&lsaquo;&lsaquo;&lsaquo;\";\n",
       "    expanded = !expanded;\n",
       "  });\n",
       "})();\n",
       "</script>\n"
      ],
      "text/plain": [
       "GlyphRenderer(id='1658', ...)"
      ]
     },
     "execution_count": 53,
     "metadata": {},
     "output_type": "execute_result"
    }
   ],
   "source": [
    "p4.vbar(y, width=0.2, top=x)"
   ]
  },
  {
   "cell_type": "code",
   "execution_count": 54,
   "metadata": {},
   "outputs": [
    {
     "data": {
      "text/html": [
       "\n",
       "\n",
       "\n",
       "\n",
       "\n",
       "\n",
       "  <div class=\"bk-root\" id=\"3858930d-55b0-4d00-88d2-8c2623865211\" data-root-id=\"1621\"></div>\n"
      ]
     },
     "metadata": {},
     "output_type": "display_data"
    },
    {
     "data": {
      "application/javascript": [
       "(function(root) {\n",
       "  function embed_document(root) {\n",
       "    \n",
       "  var docs_json = {\"c75a93dd-e716-4a8f-9ecc-838210f6d4d5\":{\"roots\":{\"references\":[{\"attributes\":{\"below\":[{\"id\":\"1632\",\"type\":\"LinearAxis\"}],\"center\":[{\"id\":\"1636\",\"type\":\"Grid\"},{\"id\":\"1641\",\"type\":\"Grid\"}],\"left\":[{\"id\":\"1637\",\"type\":\"LinearAxis\"}],\"renderers\":[{\"id\":\"1658\",\"type\":\"GlyphRenderer\"}],\"title\":{\"id\":\"1622\",\"type\":\"Title\"},\"toolbar\":{\"id\":\"1648\",\"type\":\"Toolbar\"},\"x_range\":{\"id\":\"1624\",\"type\":\"DataRange1d\"},\"x_scale\":{\"id\":\"1628\",\"type\":\"LinearScale\"},\"y_range\":{\"id\":\"1626\",\"type\":\"DataRange1d\"},\"y_scale\":{\"id\":\"1630\",\"type\":\"LinearScale\"}},\"id\":\"1621\",\"subtype\":\"Figure\",\"type\":\"Plot\"},{\"attributes\":{},\"id\":\"1628\",\"type\":\"LinearScale\"},{\"attributes\":{\"callback\":null},\"id\":\"1624\",\"type\":\"DataRange1d\"},{\"attributes\":{\"fill_color\":{\"value\":\"#1f77b4\"},\"line_color\":{\"value\":\"#1f77b4\"},\"top\":{\"field\":\"top\"},\"width\":{\"value\":0.2},\"x\":{\"field\":\"x\"}},\"id\":\"1656\",\"type\":\"VBar\"},{\"attributes\":{\"axis_label\":\"volume\",\"formatter\":{\"id\":\"1707\",\"type\":\"BasicTickFormatter\"},\"ticker\":{\"id\":\"1638\",\"type\":\"BasicTicker\"}},\"id\":\"1637\",\"type\":\"LinearAxis\"},{\"attributes\":{\"text\":\"vbar\"},\"id\":\"1622\",\"type\":\"Title\"},{\"attributes\":{\"active_drag\":\"auto\",\"active_inspect\":\"auto\",\"active_multi\":null,\"active_scroll\":\"auto\",\"active_tap\":\"auto\",\"tools\":[{\"id\":\"1642\",\"type\":\"PanTool\"},{\"id\":\"1643\",\"type\":\"WheelZoomTool\"},{\"id\":\"1644\",\"type\":\"BoxZoomTool\"},{\"id\":\"1645\",\"type\":\"SaveTool\"},{\"id\":\"1646\",\"type\":\"ResetTool\"},{\"id\":\"1647\",\"type\":\"HelpTool\"}]},\"id\":\"1648\",\"type\":\"Toolbar\"},{\"attributes\":{\"fill_alpha\":{\"value\":0.1},\"fill_color\":{\"value\":\"#1f77b4\"},\"line_alpha\":{\"value\":0.1},\"line_color\":{\"value\":\"#1f77b4\"},\"top\":{\"field\":\"top\"},\"width\":{\"value\":0.2},\"x\":{\"field\":\"x\"}},\"id\":\"1657\",\"type\":\"VBar\"},{\"attributes\":{\"callback\":null,\"data\":{\"top\":{\"__ndarray__\":\"ZIWLdQ528D+9r8jF0nv0P5cguiEFeghAjSlfk17V/T8+ti04+yvuP9S6ctRJehVAsYeSr1HN9D8cAV/0/DwNQG5Rno0vcgJAQmfC2J2V/D8pB+7EcnwBQJJaJNkwUxNAnV87Iafy4j/NvYJVl+sVQAkikvRHCq0/Kjl7dBMYH0BmQCuocUwkQNvSuB+ZORdAv6dlWtJlD0Ap8sqwna8VQFkjld2Zeto/3D4noYRL/T+O7pbFdOuzP2SsAMByNPg/UXmcQtFxAkAIsLDNAQgXQDUR4PlxnCBA8rLGv24t9z+Uoh/mOfkEQGy2mm11EuM/lKPKxyPuzT/OSBUSt+IGQC83cz5+OvA/JRmrNz01dT/mhhs5hKzwP9koM8nHXABAihPqFJXZ0j9ohelWm24QQNfXj+gkshZAlj6JLbvWHUBgqtz8gHgBQDlFwgaKURdATnNMgiHjIEBY7uy1xQfyP8SFK3rErx5A7frm44lLyD+WM2+d2lEPQDlRMFHYDNM/vin5sB72H0BJxSkC/tcTQDb2O36bVBVAsohrU4EsIEAK940jh5TsP6Xf2W/3Ug5AZi3ixBeq9D8zSK0+cDYfQPHggHKtURJAitNzHl3WEkAouJXozEz5P79WrxuxEwZALwJsNIdbIkB2hm29cZ0hQAk/FEvpfvM/h2hDvQG64z+FFoHCbIvlP4AQEY4Hbes/+gGrOpjtCEABlega8sfxP73q1RbVewZAOqUwTRxnFEBAeuv3h6IAQGQtZJlgkfU/gwMYHa/q6D++9XxESCf3P569VG67X/U/bYrvY/jj8D8nfpXHZ0ChP2BuH8V2NABA+S6zDHfs2z/5BP1jHMv8P/ibibr1WgNARgsJJzXjzz+1/Jr+t2j+PypFiF0k6/Y/4j8LpQOAA0C5pq0gaT3tP/51NaJ32wZA8cfKEkq8DEBdBccNcBXwP/FgP3whcNY/+LHyIa7l4T+my0g3FdUvQO//7DgdzxtAvuOQf1lD+T++VznGZ3caQB6UvJk20S9A1+dBKJYN9T+B2evc6kHmP8Zct4ovYfY/nbhBRlCdAkBas33G59/2P7KpedZDKR9AxujGOLS4A0B60ANGGyQQQC/d5n29CBdAvBAH1ehz/z/ZAzb3t5kCQI/ydSx0ivM/ZOeMgbmv4D/MrqcPguUDQHLBMbd83wdAXhITD88W7j9riFVYY+ATQOGFYt/pINw/HxA6xwp6CUAGqtL3XhcbQDglA0HyqwJABYiAnBKfJkBDOJIMXM3pP6ylnTGSzvg/vhMsaO17+T98iCcEusIEQMPBXv3rcdo/nrO7olp5vj8jNgCu9arLPyCga9LylNU/nl3rWOTV3j8Q6wHed9DlPw==\",\"dtype\":\"float64\",\"shape\":[128]},\"x\":{\"__ndarray__\":\"AAAAAAAAAAAIBAKBQCCAPwgEAoFAIJA/DAaDwWAwmD8IBAKBQCCgPwqFQqFQKKQ/DAaDwWAwqD8Oh8PhcDisPwgEAoFAILA/iUQikUgksj8KhUKhUCi0P4vFYrFYLLY/DAaDwWAwuD+NRqPRaDS6Pw6Hw+FwOLw/j8fj8Xg8vj8IBAKBQCDAP0gkEolEIsE/iUQikUgkwj/KZDKZTCbDPwqFQqFQKMQ/SqVSqVQqxT+LxWKxWCzGP8zlcrlcLsc/DAaDwWAwyD9MJpPJZDLJP41Go9FoNMo/zmaz2Ww2yz8Oh8PhcDjMP06n0+l0Os0/j8fj8Xg8zj/Q5/P5fD7PPwgEAoFAINA/KBQKhUKh0D9IJBKJRCLRP2k0Go1Go9E/iUQikUgk0j+pVCqVSqXSP8pkMplMJtM/6nQ6nU6n0z8KhUKhUCjUPyqVSqVSqdQ/SqVSqVQq1T9rtVqtVqvVP4vFYrFYLNY/q9VqtVqt1j/M5XK5XC7XP+z1er1er9c/DAaDwWAw2D8sFovFYrHYP0wmk8lkMtk/bTabzWaz2T+NRqPRaDTaP61Wq9Vqtdo/zmaz2Ww22z/udrvdbrfbPw6Hw+FwONw/LpfL5XK53D9Op9PpdDrdP2+32+12u90/j8fj8Xg83j+v1+v1er3eP9Dn8/l8Pt8/8Pf7/X6/3z8IBAKBQCDgPxgMBoPBYOA/KBQKhUKh4D84HA6Hw+HgP0gkEolEIuE/WSwWi8Vi4T9pNBqNRqPhP3k8Ho/H4+E/iUQikUgk4j+ZTCaTyWTiP6lUKpVKpeI/uVwul8vl4j/KZDKZTCbjP9psNpvNZuM/6nQ6nU6n4z/6fD6fz+fjPwqFQqFQKOQ/Go1Go9Fo5D8qlUqlUqnkPzqdTqfT6eQ/SqVSqVQq5T9brVar1WrlP2u1Wq1Wq+U/e71er9fr5T+LxWKxWCzmP5vNZrPZbOY/q9VqtVqt5j+73W632+3mP8zlcrlcLuc/3O12u91u5z/s9Xq9Xq/nP/z9fr/f7+c/DAaDwWAw6D8cDofD4XDoPywWi8Viseg/PB6Px+Px6D9MJpPJZDLpP10ul8vlcuk/bTabzWaz6T99Pp/P5/PpP41Go9FoNOo/nU6n0+l06j+tVqvVarXqP71er9fr9eo/zmaz2Ww26z/ebrfb7XbrP+52u91ut+s//n6/3+/36z8Oh8PhcDjsPx6Px+PxeOw/LpfL5XK57D8+n8/n8/nsP06n0+l0Ou0/X6/X6/V67T9vt9vtdrvtP3+/3+/3++0/j8fj8Xg87j+fz+fz+XzuP6/X6/V6ve4/v9/v9/v97j/Q5/P5fD7vP+Dv9/v9fu8/8Pf7/X6/7z8AAAAAAADwPw==\",\"dtype\":\"float64\",\"shape\":[128]}},\"selected\":{\"id\":\"1710\",\"type\":\"Selection\"},\"selection_policy\":{\"id\":\"1711\",\"type\":\"UnionRenderers\"}},\"id\":\"1655\",\"type\":\"ColumnDataSource\"},{\"attributes\":{\"callback\":null},\"id\":\"1626\",\"type\":\"DataRange1d\"},{\"attributes\":{\"data_source\":{\"id\":\"1655\",\"type\":\"ColumnDataSource\"},\"glyph\":{\"id\":\"1656\",\"type\":\"VBar\"},\"hover_glyph\":null,\"muted_glyph\":null,\"nonselection_glyph\":{\"id\":\"1657\",\"type\":\"VBar\"},\"selection_glyph\":null,\"view\":{\"id\":\"1659\",\"type\":\"CDSView\"}},\"id\":\"1658\",\"type\":\"GlyphRenderer\"},{\"attributes\":{},\"id\":\"1638\",\"type\":\"BasicTicker\"},{\"attributes\":{\"source\":{\"id\":\"1655\",\"type\":\"ColumnDataSource\"}},\"id\":\"1659\",\"type\":\"CDSView\"},{\"attributes\":{},\"id\":\"1705\",\"type\":\"BasicTickFormatter\"},{\"attributes\":{},\"id\":\"1643\",\"type\":\"WheelZoomTool\"},{\"attributes\":{},\"id\":\"1645\",\"type\":\"SaveTool\"},{\"attributes\":{},\"id\":\"1647\",\"type\":\"HelpTool\"},{\"attributes\":{},\"id\":\"1646\",\"type\":\"ResetTool\"},{\"attributes\":{},\"id\":\"1707\",\"type\":\"BasicTickFormatter\"},{\"attributes\":{\"dimension\":1,\"ticker\":{\"id\":\"1638\",\"type\":\"BasicTicker\"}},\"id\":\"1641\",\"type\":\"Grid\"},{\"attributes\":{\"bottom_units\":\"screen\",\"fill_alpha\":{\"value\":0.5},\"fill_color\":{\"value\":\"lightgrey\"},\"left_units\":\"screen\",\"level\":\"overlay\",\"line_alpha\":{\"value\":1.0},\"line_color\":{\"value\":\"black\"},\"line_dash\":[4,4],\"line_width\":{\"value\":2},\"render_mode\":\"css\",\"right_units\":\"screen\",\"top_units\":\"screen\"},\"id\":\"1709\",\"type\":\"BoxAnnotation\"},{\"attributes\":{},\"id\":\"1710\",\"type\":\"Selection\"},{\"attributes\":{},\"id\":\"1711\",\"type\":\"UnionRenderers\"},{\"attributes\":{},\"id\":\"1642\",\"type\":\"PanTool\"},{\"attributes\":{\"overlay\":{\"id\":\"1709\",\"type\":\"BoxAnnotation\"}},\"id\":\"1644\",\"type\":\"BoxZoomTool\"},{\"attributes\":{\"axis_label\":\"time\",\"formatter\":{\"id\":\"1705\",\"type\":\"BasicTickFormatter\"},\"ticker\":{\"id\":\"1633\",\"type\":\"BasicTicker\"}},\"id\":\"1632\",\"type\":\"LinearAxis\"},{\"attributes\":{\"ticker\":{\"id\":\"1633\",\"type\":\"BasicTicker\"}},\"id\":\"1636\",\"type\":\"Grid\"},{\"attributes\":{},\"id\":\"1630\",\"type\":\"LinearScale\"},{\"attributes\":{},\"id\":\"1633\",\"type\":\"BasicTicker\"}],\"root_ids\":[\"1621\"]},\"title\":\"Bokeh Application\",\"version\":\"1.2.0\"}};\n",
       "  var render_items = [{\"docid\":\"c75a93dd-e716-4a8f-9ecc-838210f6d4d5\",\"roots\":{\"1621\":\"3858930d-55b0-4d00-88d2-8c2623865211\"}}];\n",
       "  root.Bokeh.embed.embed_items_notebook(docs_json, render_items);\n",
       "\n",
       "  }\n",
       "  if (root.Bokeh !== undefined) {\n",
       "    embed_document(root);\n",
       "  } else {\n",
       "    var attempts = 0;\n",
       "    var timer = setInterval(function(root) {\n",
       "      if (root.Bokeh !== undefined) {\n",
       "        embed_document(root);\n",
       "        clearInterval(timer);\n",
       "      }\n",
       "      attempts++;\n",
       "      if (attempts > 100) {\n",
       "        console.log(\"Bokeh: ERROR: Unable to run BokehJS code because BokehJS library is missing\");\n",
       "        clearInterval(timer);\n",
       "      }\n",
       "    }, 10, root)\n",
       "  }\n",
       "})(window);"
      ],
      "application/vnd.bokehjs_exec.v0+json": ""
     },
     "metadata": {
      "application/vnd.bokehjs_exec.v0+json": {
       "id": "1621"
      }
     },
     "output_type": "display_data"
    }
   ],
   "source": [
    "show(p4)"
   ]
  },
  {
   "cell_type": "code",
   "execution_count": 48,
   "metadata": {},
   "outputs": [
    {
     "data": {
      "text/html": [
       "\n",
       "\n",
       "\n",
       "\n",
       "\n",
       "\n",
       "  <div class=\"bk-root\" id=\"f14fef3b-7b63-48ba-9a89-32c34c581c84\" data-root-id=\"1439\"></div>\n"
      ]
     },
     "metadata": {},
     "output_type": "display_data"
    },
    {
     "data": {
      "application/javascript": [
       "(function(root) {\n",
       "  function embed_document(root) {\n",
       "    \n",
       "  var docs_json = {\"d654edc8-2813-4f39-bd7f-b93eb333638a\":{\"roots\":{\"references\":[{\"attributes\":{\"below\":[{\"id\":\"1450\",\"type\":\"LinearAxis\"}],\"center\":[{\"id\":\"1454\",\"type\":\"Grid\"},{\"id\":\"1459\",\"type\":\"Grid\"}],\"left\":[{\"id\":\"1455\",\"type\":\"LinearAxis\"}],\"renderers\":[{\"id\":\"1476\",\"type\":\"GlyphRenderer\"}],\"title\":{\"id\":\"1440\",\"type\":\"Title\"},\"toolbar\":{\"id\":\"1466\",\"type\":\"Toolbar\"},\"x_range\":{\"id\":\"1442\",\"type\":\"DataRange1d\"},\"x_scale\":{\"id\":\"1446\",\"type\":\"LinearScale\"},\"y_range\":{\"id\":\"1444\",\"type\":\"DataRange1d\"},\"y_scale\":{\"id\":\"1448\",\"type\":\"LinearScale\"}},\"id\":\"1439\",\"subtype\":\"Figure\",\"type\":\"Plot\"},{\"attributes\":{\"active_drag\":\"auto\",\"active_inspect\":\"auto\",\"active_multi\":null,\"active_scroll\":\"auto\",\"active_tap\":\"auto\",\"tools\":[{\"id\":\"1460\",\"type\":\"PanTool\"},{\"id\":\"1461\",\"type\":\"WheelZoomTool\"},{\"id\":\"1462\",\"type\":\"BoxZoomTool\"},{\"id\":\"1463\",\"type\":\"SaveTool\"},{\"id\":\"1464\",\"type\":\"ResetTool\"},{\"id\":\"1465\",\"type\":\"HelpTool\"}]},\"id\":\"1466\",\"type\":\"Toolbar\"},{\"attributes\":{\"formatter\":{\"id\":\"1513\",\"type\":\"BasicTickFormatter\"},\"ticker\":{\"id\":\"1456\",\"type\":\"BasicTicker\"}},\"id\":\"1455\",\"type\":\"LinearAxis\"},{\"attributes\":{\"source\":{\"id\":\"1473\",\"type\":\"ColumnDataSource\"}},\"id\":\"1477\",\"type\":\"CDSView\"},{\"attributes\":{\"formatter\":{\"id\":\"1511\",\"type\":\"BasicTickFormatter\"},\"ticker\":{\"id\":\"1451\",\"type\":\"BasicTicker\"}},\"id\":\"1450\",\"type\":\"LinearAxis\"},{\"attributes\":{\"fill_alpha\":{\"value\":0.1},\"fill_color\":{\"value\":\"#1f77b4\"},\"line_alpha\":{\"value\":0.1},\"line_color\":{\"value\":\"#1f77b4\"},\"size\":{\"units\":\"screen\",\"value\":10},\"x\":{\"field\":\"x\"},\"y\":{\"field\":\"y\"}},\"id\":\"1475\",\"type\":\"Circle\"},{\"attributes\":{},\"id\":\"1464\",\"type\":\"ResetTool\"},{\"attributes\":{\"fill_alpha\":{\"value\":0.2},\"fill_color\":{\"field\":\"fill_color\"},\"line_color\":{\"field\":\"line_color\"},\"size\":{\"units\":\"screen\",\"value\":10},\"x\":{\"field\":\"x\"},\"y\":{\"field\":\"y\"}},\"id\":\"1474\",\"type\":\"Circle\"},{\"attributes\":{},\"id\":\"1511\",\"type\":\"BasicTickFormatter\"},{\"attributes\":{},\"id\":\"1448\",\"type\":\"LinearScale\"},{\"attributes\":{},\"id\":\"1513\",\"type\":\"BasicTickFormatter\"},{\"attributes\":{\"data_source\":{\"id\":\"1473\",\"type\":\"ColumnDataSource\"},\"glyph\":{\"id\":\"1474\",\"type\":\"Circle\"},\"hover_glyph\":null,\"muted_glyph\":null,\"nonselection_glyph\":{\"id\":\"1475\",\"type\":\"Circle\"},\"selection_glyph\":null,\"view\":{\"id\":\"1477\",\"type\":\"CDSView\"}},\"id\":\"1476\",\"type\":\"GlyphRenderer\"},{\"attributes\":{},\"id\":\"1460\",\"type\":\"PanTool\"},{\"attributes\":{\"bottom_units\":\"screen\",\"fill_alpha\":{\"value\":0.5},\"fill_color\":{\"value\":\"lightgrey\"},\"left_units\":\"screen\",\"level\":\"overlay\",\"line_alpha\":{\"value\":1.0},\"line_color\":{\"value\":\"black\"},\"line_dash\":[4,4],\"line_width\":{\"value\":2},\"render_mode\":\"css\",\"right_units\":\"screen\",\"top_units\":\"screen\"},\"id\":\"1515\",\"type\":\"BoxAnnotation\"},{\"attributes\":{},\"id\":\"1516\",\"type\":\"Selection\"},{\"attributes\":{},\"id\":\"1517\",\"type\":\"UnionRenderers\"},{\"attributes\":{},\"id\":\"1463\",\"type\":\"SaveTool\"},{\"attributes\":{},\"id\":\"1461\",\"type\":\"WheelZoomTool\"},{\"attributes\":{},\"id\":\"1465\",\"type\":\"HelpTool\"},{\"attributes\":{\"dimension\":1,\"ticker\":{\"id\":\"1456\",\"type\":\"BasicTicker\"}},\"id\":\"1459\",\"type\":\"Grid\"},{\"attributes\":{\"overlay\":{\"id\":\"1515\",\"type\":\"BoxAnnotation\"}},\"id\":\"1462\",\"type\":\"BoxZoomTool\"},{\"attributes\":{\"callback\":null,\"data\":{\"fill_color\":[\"#340a96\",\"#340a96\",\"#380a96\",\"#350a96\",\"#330a96\",\"#3c0a96\",\"#340a96\",\"#390a96\",\"#360a96\",\"#350a96\",\"#360a96\",\"#3b0a96\",\"#330a96\",\"#3c0a96\",\"#320a96\",\"#410a96\",\"#460a96\",\"#3d0a96\",\"#390a96\",\"#3c0a96\",\"#320a96\",\"#350a96\",\"#320a96\",\"#350a96\",\"#360a96\",\"#3d0a96\",\"#420a96\",\"#340a96\",\"#370a96\",\"#330a96\",\"#320a96\",\"#370a96\",\"#340a96\",\"#320a96\",\"#340a96\",\"#360a96\",\"#320a96\",\"#3a0a96\",\"#3d0a96\",\"#400a96\",\"#360a96\",\"#3d0a96\",\"#420a96\",\"#340a96\",\"#410a96\",\"#320a96\",\"#390a96\",\"#320a96\",\"#410a96\",\"#3b0a96\",\"#3c0a96\",\"#420a96\",\"#330a96\",\"#390a96\",\"#340a96\",\"#410a96\",\"#3b0a96\",\"#3b0a96\",\"#350a96\",\"#370a96\",\"#440a96\",\"#430a96\",\"#340a96\",\"#330a96\",\"#330b96\",\"#330b96\",\"#380b96\",\"#340b96\",\"#370b96\",\"#3c0b96\",\"#360b96\",\"#340b96\",\"#330b96\",\"#340b96\",\"#340b96\",\"#340b96\",\"#320b96\",\"#360b96\",\"#320b96\",\"#350b96\",\"#360b96\",\"#320b96\",\"#350b96\",\"#340b96\",\"#360b96\",\"#330b96\",\"#370b96\",\"#390b96\",\"#340b96\",\"#320b96\",\"#330b96\",\"#510b96\",\"#3f0b96\",\"#350b96\",\"#3f0b96\",\"#510b96\",\"#340b96\",\"#330b96\",\"#340b96\",\"#360b96\",\"#340b96\",\"#410b96\",\"#360b96\",\"#3a0b96\",\"#3d0b96\",\"#350b96\",\"#360b96\",\"#340b96\",\"#330b96\",\"#360b96\",\"#370b96\",\"#330b96\",\"#3b0b96\",\"#320b96\",\"#380b96\",\"#3f0b96\",\"#360b96\",\"#480b96\",\"#330b96\",\"#350b96\",\"#350b96\",\"#370b96\",\"#320b96\",\"#320b96\",\"#320b96\",\"#320b96\",\"#320b96\",\"#330c96\"],\"line_color\":[\"#340a96\",\"#340a96\",\"#380a96\",\"#350a96\",\"#330a96\",\"#3c0a96\",\"#340a96\",\"#390a96\",\"#360a96\",\"#350a96\",\"#360a96\",\"#3b0a96\",\"#330a96\",\"#3c0a96\",\"#320a96\",\"#410a96\",\"#460a96\",\"#3d0a96\",\"#390a96\",\"#3c0a96\",\"#320a96\",\"#350a96\",\"#320a96\",\"#350a96\",\"#360a96\",\"#3d0a96\",\"#420a96\",\"#340a96\",\"#370a96\",\"#330a96\",\"#320a96\",\"#370a96\",\"#340a96\",\"#320a96\",\"#340a96\",\"#360a96\",\"#320a96\",\"#3a0a96\",\"#3d0a96\",\"#400a96\",\"#360a96\",\"#3d0a96\",\"#420a96\",\"#340a96\",\"#410a96\",\"#320a96\",\"#390a96\",\"#320a96\",\"#410a96\",\"#3b0a96\",\"#3c0a96\",\"#420a96\",\"#330a96\",\"#390a96\",\"#340a96\",\"#410a96\",\"#3b0a96\",\"#3b0a96\",\"#350a96\",\"#370a96\",\"#440a96\",\"#430a96\",\"#340a96\",\"#330a96\",\"#330b96\",\"#330b96\",\"#380b96\",\"#340b96\",\"#370b96\",\"#3c0b96\",\"#360b96\",\"#340b96\",\"#330b96\",\"#340b96\",\"#340b96\",\"#340b96\",\"#320b96\",\"#360b96\",\"#320b96\",\"#350b96\",\"#360b96\",\"#320b96\",\"#350b96\",\"#340b96\",\"#360b96\",\"#330b96\",\"#370b96\",\"#390b96\",\"#340b96\",\"#320b96\",\"#330b96\",\"#510b96\",\"#3f0b96\",\"#350b96\",\"#3f0b96\",\"#510b96\",\"#340b96\",\"#330b96\",\"#340b96\",\"#360b96\",\"#340b96\",\"#410b96\",\"#360b96\",\"#3a0b96\",\"#3d0b96\",\"#350b96\",\"#360b96\",\"#340b96\",\"#330b96\",\"#360b96\",\"#370b96\",\"#330b96\",\"#3b0b96\",\"#320b96\",\"#380b96\",\"#3f0b96\",\"#360b96\",\"#480b96\",\"#330b96\",\"#350b96\",\"#350b96\",\"#370b96\",\"#320b96\",\"#320b96\",\"#320b96\",\"#320b96\",\"#320b96\",\"#330c96\"],\"x\":{\"__ndarray__\":\"ZIWLdQ528L+9r8jF0nv0P5cguiEFegjAjSlfk17V/b8+ti04+yvuP9S6ctRJehVAsYeSr1HN9D8cAV/0/DwNwG5Rno0vcgJAQmfC2J2V/D8pB+7EcnwBwJJaJNkwUxPAnV87Iafy4j/NvYJVl+sVwAkikvRHCq2/Kjl7dBMYH0BmQCuocUwkwNvSuB+ZORfAv6dlWtJlD8Ap8sqwna8VwFkjld2Zeto/3D4noYRL/b+O7pbFdOuzv2SsAMByNPi/UXmcQtFxAsAIsLDNAQgXwDUR4PlxnCDA8rLGv24t97+Uoh/mOfkEQGy2mm11EuM/lKPKxyPuzT/OSBUSt+IGQC83cz5+OvA/JRmrNz01dT/mhhs5hKzwP9koM8nHXABAihPqFJXZ0r9ohelWm24QwNfXj+gkshbAlj6JLbvWHcBgqtz8gHgBQDlFwgaKURfATnNMgiHjIMBY7uy1xQfyv8SFK3rErx7A7frm44lLyL+WM2+d2lEPwDlRMFHYDNO/vin5sB72H8BJxSkC/tcTwDb2O36bVBVAsohrU4EsIEAK940jh5Tsv6Xf2W/3Ug7AZi3ixBeq9D8zSK0+cDYfQPHggHKtURLAitNzHl3WEsAouJXozEz5P79WrxuxEwZALwJsNIdbIkB2hm29cZ0hwAk/FEvpfvO/h2hDvQG64z+FFoHCbIvlP4AQEY4Hbeu/+gGrOpjtCEABlega8sfxP73q1RbVewbAOqUwTRxnFMBAeuv3h6IAwGQtZJlgkfW/gwMYHa/q6L++9XxESCf3v569VG67X/U/bYrvY/jj8L8nfpXHZ0Chv2BuH8V2NADA+S6zDHfs2z/5BP1jHMv8v/ibibr1WgNARgsJJzXjz7+1/Jr+t2j+vypFiF0k6/Y/4j8LpQOAA0C5pq0gaT3tv/51NaJ32wZA8cfKEkq8DEBdBccNcBXwv/FgP3whcNY/+LHyIa7l4b+my0g3FdUvwO//7DgdzxvAvuOQf1lD+b++VznGZ3caQB6UvJk20S/A1+dBKJYN9b+B2evc6kHmP8Zct4ovYfY/nbhBRlCdAsBas33G59/2v7KpedZDKR9AxujGOLS4A0B60ANGGyQQwC/d5n29CBdAvBAH1ehz/7/ZAzb3t5kCwI/ydSx0ivO/ZOeMgbmv4L/MrqcPguUDwHLBMbd83wdAXhITD88W7j9riFVYY+ATwOGFYt/pINw/HxA6xwp6CUAGqtL3XhcbwDglA0HyqwJABYiAnBKfJsBDOJIMXM3pP6ylnTGSzvg/vhMsaO17+b98iCcEusIEQMPBXv3rcdq/nrO7olp5vj8jNgCu9arLvyCga9LylNU/nl3rWOTV3r8Q6wHed9DlPw==\",\"dtype\":\"float64\",\"shape\":[128]},\"y\":{\"__ndarray__\":\"9W2vJRICwr/uqzUSQRQVQPcJQDpSfRXAWnirZoVSC0Dnpl+Bhn4UwCA4jGQo2wLAMStpguFBDsD92g4k7pMTQNUzO8HIPQzArkKyki3y+D8fMTQUgKQMQLp9NB1nXiHAR7YxsDc277+tIhbvpekFwCiz3nT3FQPAq/y815u1D8ATu8ynsRUhwPNbB4KF8w3ArIN44uTl/j+Rz8RtfojwvwlCT56ipg7AcRhefPHax7+4LQWZDUUIwI5sxPy9CxLAnOMvB+4WGMCZxq5GWPMgwOyKzmjXnwHAYNwgR4spGMBgXNNHNlUQQKEdTXL20glAQQNxd6Mj4j+14LmIhl7zvzTvf0VRxeG/RsUBZ8KiDsBX+GG4IIH7v1LL2XgkB+O/HynF6p5hDkCjQUSQAN0bwBqLUqwMcRPAGs1xe6f19D/e1r5J5lDeP8KPvGUEDhHAjExfqsubIcCIB5UddGgCwOYw8H6RtxvAPcVeyfmn8L9ru/Dn+3kUQKpA0caGJAtAuDkaGHAdC8CZgfPT7J8CwHiHtCIqd8U/6QOYMDgILEAkQFXhvhoHwJLjorQl/wzA2KtGLGPJAUA8rn38RYMaQKI+grZxpgbA4G3/mhga4T8vsz3kwS0FwLAmyH0Ipw3AQ+d7af0JCUArUAMipFMIwFLDObke1Pq/6mvaxYNjC8AfCBBbPjMaQF9kDkciEQjAKG83GQvEBMDgpaAnanEQwHfjGzIEbRjAJl9IeNUd8D9JybG+yXQFwA6emfTVXATAC9Uli206F0BptC0GS7cSQEf5rb5nm9y/M+xyJYjw+T8Q1AQTIKq4PzCB19X3H/S/38HoSAmg7L8wi+jQ3kP2vy5vw3ascOG/EMSuPauwEUCPzrzM1Xb6v2C0mT21pvc/9+oUlDHz4r9O7oXfSEIPQDAKXjMjT++/1ynsGhiW/z8RgjS93wEHwK0l0CqcrRBAw3nqEmI1+L80vUInTrUwwG6gYo6p8SLAmfFkCngrFUCdEMLBgcYTwF38XgHgiRLAsW4AUkvywb/2SUTWWq3wP3/c/mkbkgZAeCPZgkyx/z+jSmhc9PsPwJLUDzHoSxpAsi3emRSgHMBwN4fkvtkRwDcTQBOw0eC/KWooSmWdGMAE5pzLzST4vxu/PuTrPx1AeWmmLJWYJ8CpI9H3DPP+PxHi/KzSYhJAVFrWMDxjCsB7MbP+2NYLwLam9pi3liNAAjem0OSqEkCsmtyqlar0P2l67ldZ6AjA68AGW0Y/IcDfA6nI2SkFQLE+rRzJwwTADhI35D2u4L8QiwZ1fFv8v64+l4sfheG/oLT8JhHXwT/MIn5ABGfRv0bme+I2kdU/uh2Xpvq82b9w6+5JiB3bPw==\",\"dtype\":\"float64\",\"shape\":[128]}},\"selected\":{\"id\":\"1516\",\"type\":\"Selection\"},\"selection_policy\":{\"id\":\"1517\",\"type\":\"UnionRenderers\"}},\"id\":\"1473\",\"type\":\"ColumnDataSource\"},{\"attributes\":{\"callback\":null},\"id\":\"1442\",\"type\":\"DataRange1d\"},{\"attributes\":{},\"id\":\"1446\",\"type\":\"LinearScale\"},{\"attributes\":{\"callback\":null},\"id\":\"1444\",\"type\":\"DataRange1d\"},{\"attributes\":{\"ticker\":{\"id\":\"1451\",\"type\":\"BasicTicker\"}},\"id\":\"1454\",\"type\":\"Grid\"},{\"attributes\":{},\"id\":\"1451\",\"type\":\"BasicTicker\"},{\"attributes\":{},\"id\":\"1456\",\"type\":\"BasicTicker\"},{\"attributes\":{\"text\":\"circles\"},\"id\":\"1440\",\"type\":\"Title\"}],\"root_ids\":[\"1439\"]},\"title\":\"Bokeh Application\",\"version\":\"1.2.0\"}};\n",
       "  var render_items = [{\"docid\":\"d654edc8-2813-4f39-bd7f-b93eb333638a\",\"roots\":{\"1439\":\"f14fef3b-7b63-48ba-9a89-32c34c581c84\"}}];\n",
       "  root.Bokeh.embed.embed_items_notebook(docs_json, render_items);\n",
       "\n",
       "  }\n",
       "  if (root.Bokeh !== undefined) {\n",
       "    embed_document(root);\n",
       "  } else {\n",
       "    var attempts = 0;\n",
       "    var timer = setInterval(function(root) {\n",
       "      if (root.Bokeh !== undefined) {\n",
       "        embed_document(root);\n",
       "        clearInterval(timer);\n",
       "      }\n",
       "      attempts++;\n",
       "      if (attempts > 100) {\n",
       "        console.log(\"Bokeh: ERROR: Unable to run BokehJS code because BokehJS library is missing\");\n",
       "        clearInterval(timer);\n",
       "      }\n",
       "    }, 10, root)\n",
       "  }\n",
       "})(window);"
      ],
      "application/vnd.bokehjs_exec.v0+json": ""
     },
     "metadata": {
      "application/vnd.bokehjs_exec.v0+json": {
       "id": "1439"
      }
     },
     "output_type": "display_data"
    }
   ],
   "source": [
    "\n",
    "p5 = figure(title = \"circles\")\n",
    "\n",
    "p5.circle(resampled[0], resampled[1],\n",
    "         color=colors, fill_alpha=0.2, size=10)\n",
    "\n",
    "show(p5)"
   ]
  },
  {
   "cell_type": "code",
   "execution_count": null,
   "metadata": {},
   "outputs": [],
   "source": []
  }
 ],
 "metadata": {
  "kernelspec": {
   "display_name": "Python 3",
   "language": "python",
   "name": "python3"
  },
  "language_info": {
   "codemirror_mode": {
    "name": "ipython",
    "version": 3
   },
   "file_extension": ".py",
   "mimetype": "text/x-python",
   "name": "python",
   "nbconvert_exporter": "python",
   "pygments_lexer": "ipython3",
   "version": "3.7.3"
  }
 },
 "nbformat": 4,
 "nbformat_minor": 4
}
